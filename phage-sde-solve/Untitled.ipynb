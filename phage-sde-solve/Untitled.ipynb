{
 "cells": [
  {
   "cell_type": "code",
   "execution_count": 945,
   "metadata": {},
   "outputs": [],
   "source": [
    "import glob\n",
    "import os\n",
    "\n",
    "import numpy as np\n",
    "\n",
    "import matplotlib.pyplot as plt"
   ]
  },
  {
   "cell_type": "code",
   "execution_count": 946,
   "metadata": {},
   "outputs": [],
   "source": [
    "vf = glob.glob(\"vel*.txt\")\n",
    "af = glob.glob(\"abs*.txt\")"
   ]
  },
  {
   "cell_type": "code",
   "execution_count": 948,
   "metadata": {},
   "outputs": [
    {
     "data": {
      "text/plain": [
       "[<matplotlib.lines.Line2D at 0x7fb541849670>]"
      ]
     },
     "execution_count": 948,
     "metadata": {},
     "output_type": "execute_result"
    },
    {
     "data": {
      "image/png": "[encoded data removed]",
      "text/plain": [
       "<Figure size 432x288 with 1 Axes>"
      ]
     },
     "metadata": {
      "needs_background": "light"
     },
     "output_type": "display_data"
    }
   ],
   "source": [
    "#plt.plot(np.diff(np.loadtxt(vf[0])[:,1]))\n",
    "plt.plot(np.diff(np.loadtxt(af[0])[:,1])[1:])"
   ]
  },
  {
   "cell_type": "code",
   "execution_count": 949,
   "metadata": {},
   "outputs": [
    {
     "data": {
      "text/plain": [
       "array([], dtype=float64)"
      ]
     },
     "execution_count": 949,
     "metadata": {},
     "output_type": "execute_result"
    }
   ],
   "source": [
    "np.loadtxt(af[0])[100:,1]"
   ]
  },
  {
   "cell_type": "code",
   "execution_count": 950,
   "metadata": {},
   "outputs": [
    {
     "data": {
      "text/plain": [
       "0.00888390986"
      ]
     },
     "execution_count": 950,
     "metadata": {},
     "output_type": "execute_result"
    }
   ],
   "source": [
    "np.mean(np.loadtxt(af[0])[50:,1])"
   ]
  },
  {
   "cell_type": "code",
   "execution_count": 951,
   "metadata": {},
   "outputs": [
    {
     "data": {
      "text/plain": [
       "0.1"
      ]
     },
     "execution_count": 951,
     "metadata": {},
     "output_type": "execute_result"
    }
   ],
   "source": [
    ".001*100"
   ]
  },
  {
   "cell_type": "code",
   "execution_count": 952,
   "metadata": {},
   "outputs": [
    {
     "ename": "NameError",
     "evalue": "name 'acnt' is not defined",
     "output_type": "error",
     "traceback": [
      "\u001b[0;31m---------------------------------------------------------------------------\u001b[0m",
      "\u001b[0;31mNameError\u001b[0m                                 Traceback (most recent call last)",
      "\u001b[0;32m<ipython-input-952-661856e5006b>\u001b[0m in \u001b[0;36m<module>\u001b[0;34m\u001b[0m\n\u001b[0;32m----> 1\u001b[0;31m \u001b[0macnt\u001b[0m\u001b[0;34m\u001b[0m\u001b[0;34m\u001b[0m\u001b[0m\n\u001b[0m",
      "\u001b[0;31mNameError\u001b[0m: name 'acnt' is not defined"
     ]
    }
   ],
   "source": [
    "acnt"
   ]
  },
  {
   "cell_type": "code",
   "execution_count": 953,
   "metadata": {},
   "outputs": [
    {
     "data": {
      "text/plain": [
       "array([0.0101627 , 0.0010352 , 0.0106312 , 0.00108225, 0.        ,\n",
       "       0.0031746 , 0.004393  , 0.00451898, 0.00259944, 0.        ,\n",
       "       0.        , 0.00588235, 0.00165049, 0.00102459, 0.004     ,\n",
       "       0.        , 0.00778534, 0.00309602, 0.        , 0.        ,\n",
       "       0.00169492, 0.00121065, 0.        , 0.00047893, 0.0026455 ,\n",
       "       0.        , 0.00026082, 0.00097656, 0.011375  , 0.00231481,\n",
       "       0.00120773, 0.00154321, 0.        , 0.        , 0.0345948 ,\n",
       "       0.00420168, 0.10129   , 0.00113636, 0.        , 0.00041615,\n",
       "       0.00052632, 0.        , 0.0090456 , 0.00480769, 0.00704858,\n",
       "       0.00265957, 0.0026455 , 0.00498623, 0.00621118, 0.        ,\n",
       "       0.0004717 , 0.00030779, 0.        , 0.00743302, 0.00065746,\n",
       "       0.00118615, 0.00545635, 0.        , 0.0611637 , 0.0428571 ,\n",
       "       0.00269478, 0.00057471, 0.00137363, 0.00057078, 0.00238095,\n",
       "       0.        , 0.00336235, 0.0021645 , 0.00320293, 0.00358707,\n",
       "       0.0833333 , 0.00334603, 0.00049603, 0.0413105 , 0.037037  ,\n",
       "       0.00667406, 0.0352457 , 0.00274036, 0.00134409, 0.00454545,\n",
       "       0.00233351, 0.00740741, 0.0117177 , 0.00083333, 0.00079465,\n",
       "       0.00132386, 0.00189005, 0.00237504, 0.        , 0.00222222,\n",
       "       0.00063873, 0.0037037 , 0.        , 0.        , 0.        ,\n",
       "       0.00370585, 0.0040205 , 0.00466307, 0.0339305 , 0.00711788])"
      ]
     },
     "execution_count": 953,
     "metadata": {},
     "output_type": "execute_result"
    }
   ],
   "source": [
    "np.loadtxt(af[0])[:,1]"
   ]
  },
  {
   "cell_type": "code",
   "execution_count": 954,
   "metadata": {},
   "outputs": [
    {
     "data": {
      "text/plain": [
       "0.00708509438"
      ]
     },
     "execution_count": 954,
     "metadata": {},
     "output_type": "execute_result"
    }
   ],
   "source": [
    "np.mean(np.loadtxt(af[0])[:,1])"
   ]
  },
  {
   "cell_type": "code",
   "execution_count": 926,
   "metadata": {},
   "outputs": [
    {
     "data": {
      "text/plain": [
       "0.3"
      ]
     },
     "execution_count": 926,
     "metadata": {},
     "output_type": "execute_result"
    }
   ],
   "source": [
    ".0003*1000"
   ]
  },
  {
   "cell_type": "code",
   "execution_count": 927,
   "metadata": {},
   "outputs": [
    {
     "data": {
      "text/plain": [
       "5.767532282319462e-11"
      ]
     },
     "execution_count": 927,
     "metadata": {},
     "output_type": "execute_result"
    }
   ],
   "source": [
    "np.mean((np.diff(np.loadtxt(af[0])[:,1])/500)[30:])/(np.mean((np.loadtxt(vf[0])[:,1])[30:])/500)\n"
   ]
  },
  {
   "cell_type": "code",
   "execution_count": 647,
   "metadata": {},
   "outputs": [
    {
     "data": {
      "text/plain": [
       "array([-4.43480e-10, -4.02540e-10, -3.85440e-10, -3.53640e-10,\n",
       "       -3.38760e-10, -3.21480e-10, -3.08980e-10, -2.82720e-10,\n",
       "        3.27610e-09,  3.09924e-09, -4.01900e-10, -3.96060e-10,\n",
       "       -3.91760e-10, -3.57220e-10, -3.34700e-10, -3.35320e-10,\n",
       "       -3.19360e-10, -3.01000e-10,  5.37678e-09, -4.00840e-10,\n",
       "       -3.69760e-10, -3.63680e-10, -3.55520e-10,  2.23106e-09,\n",
       "        2.15420e-09,  2.08420e-09, -4.31200e-10, -4.21200e-10,\n",
       "       -3.92200e-10, -3.91400e-10, -3.80400e-10, -3.58800e-10,\n",
       "       -3.45000e-10, -3.39800e-10, -3.27200e-10, -3.22600e-10,\n",
       "        1.77740e-09,  1.70320e-09, -3.39000e-10, -3.34000e-10,\n",
       "       -3.21800e-10, -3.29800e-10, -3.24800e-10, -3.10800e-10,\n",
       "        1.56800e-09, -3.24600e-10,  1.50440e-09, -3.26400e-10,\n",
       "       -3.18400e-10, -3.09200e-10, -2.93000e-10, -2.84200e-10,\n",
       "       -2.88600e-10,  1.37420e-09, -2.95000e-10,  1.34100e-09,\n",
       "       -2.89400e-10, -2.93000e-10, -2.75400e-10, -2.85800e-10,\n",
       "       -2.73000e-10, -2.59600e-10, -2.51000e-10,  1.23740e-09,\n",
       "       -2.58400e-10, -2.57400e-10, -2.49600e-10, -2.49600e-10,\n",
       "       -2.37600e-10, -2.33800e-10,  1.14520e-09, -2.40800e-10,\n",
       "       -2.34000e-10, -2.38200e-10,  1.10540e-09,  1.07440e-09,\n",
       "        1.06640e-09, -2.48600e-10, -2.50400e-10, -2.42000e-10,\n",
       "       -2.34400e-10, -2.35200e-10, -2.35200e-10, -2.19800e-10,\n",
       "       -2.21600e-10, -2.27200e-10, -2.18000e-10, -2.09000e-10,\n",
       "       -2.05000e-10, -2.13600e-10, -2.01200e-10,  9.56800e-10,\n",
       "       -2.07200e-10, -2.04600e-10, -1.96600e-10,  9.23200e-10,\n",
       "       -2.01600e-10, -1.94800e-10, -1.88200e-10, -1.90800e-10,\n",
       "       -1.89400e-10,  8.78200e-10, -1.95800e-10, -1.87800e-10,\n",
       "        8.55000e-10, -1.88400e-10, -1.83400e-10, -1.86800e-10,\n",
       "       -1.88800e-10,  8.20600e-10, -1.85000e-10, -1.84000e-10,\n",
       "       -1.77800e-10, -1.81400e-10, -1.78000e-10, -1.67600e-10,\n",
       "       -1.70000e-10, -1.63800e-10,  1.72180e-09, -1.70800e-10,\n",
       "       -1.72600e-10, -1.67800e-10, -1.67400e-10, -1.67800e-10,\n",
       "       -1.62800e-10, -1.62000e-10,  7.30400e-10,  7.24400e-10,\n",
       "       -1.64600e-10,  7.13800e-10, -1.62400e-10, -1.68800e-10,\n",
       "       -1.59400e-10,  2.40800e-09, -1.72600e-10, -1.76600e-10,\n",
       "       -1.69600e-10, -1.73200e-10,  6.63600e-10, -1.65000e-10,\n",
       "       -1.66000e-10,  6.52000e-10, -1.64600e-10, -1.66200e-10,\n",
       "       -1.68400e-10, -1.64600e-10, -1.60400e-10, -1.59400e-10,\n",
       "       -1.64000e-10,  6.23000e-10, -1.55000e-10, -1.59400e-10,\n",
       "       -1.55600e-10,  6.05800e-10, -1.56400e-10, -1.55000e-10,\n",
       "       -1.56600e-10, -1.51600e-10, -1.50200e-10, -1.45400e-10,\n",
       "       -1.49200e-10, -1.42800e-10, -1.45400e-10, -1.42400e-10,\n",
       "       -1.39600e-10, -1.46200e-10, -1.36400e-10, -1.30800e-10,\n",
       "       -1.34600e-10])"
      ]
     },
     "execution_count": 647,
     "metadata": {},
     "output_type": "execute_result"
    }
   ],
   "source": [
    "(np.diff(np.loadtxt(af[0])[:,1])/500)[30:]"
   ]
  },
  {
   "cell_type": "code",
   "execution_count": 570,
   "metadata": {},
   "outputs": [
    {
     "data": {
      "text/plain": [
       "[<matplotlib.lines.Line2D at 0x7fb52122c790>]"
      ]
     },
     "execution_count": 570,
     "metadata": {},
     "output_type": "execute_result"
    },
    {
     "data": {
      "image/png": "[encoded data removed]",
      "text/plain": [
       "<Figure size 432x288 with 1 Axes>"
      ]
     },
     "metadata": {
      "needs_background": "light"
     },
     "output_type": "display_data"
    }
   ],
   "source": [
    "plt.plot((np.diff(np.loadtxt(vf[0])[:,1])/500)[30:])"
   ]
  },
  {
   "cell_type": "code",
   "execution_count": 571,
   "metadata": {},
   "outputs": [
    {
     "data": {
      "text/plain": [
       "207.08971764705882"
      ]
     },
     "execution_count": 571,
     "metadata": {},
     "output_type": "execute_result"
    }
   ],
   "source": [
    "(np.mean((np.loadtxt(vf[0])[:,1])[30:])/500)"
   ]
  },
  {
   "cell_type": "code",
   "execution_count": 482,
   "metadata": {},
   "outputs": [
    {
     "ename": "SyntaxError",
     "evalue": "unmatched ')' (<ipython-input-482-9e96edf0e1c9>, line 1)",
     "output_type": "error",
     "traceback": [
      "\u001b[0;36m  File \u001b[0;32m\"<ipython-input-482-9e96edf0e1c9>\"\u001b[0;36m, line \u001b[0;32m1\u001b[0m\n\u001b[0;31m    np.diff(np.loadtxt(af[0])[:,1])/500)[20:\u001b[0m\n\u001b[0m                                       ^\u001b[0m\n\u001b[0;31mSyntaxError\u001b[0m\u001b[0;31m:\u001b[0m unmatched ')'\n"
     ]
    }
   ],
   "source": [
    "np.diff(np.loadtxt(af[0])[:,1])/500)[20:"
   ]
  },
  {
   "cell_type": "code",
   "execution_count": 483,
   "metadata": {},
   "outputs": [
    {
     "data": {
      "text/plain": [
       "0.03"
      ]
     },
     "execution_count": 483,
     "metadata": {},
     "output_type": "execute_result"
    }
   ],
   "source": [
    ".03"
   ]
  },
  {
   "cell_type": "code",
   "execution_count": 484,
   "metadata": {},
   "outputs": [
    {
     "data": {
      "text/plain": [
       "6.0"
      ]
     },
     "execution_count": 484,
     "metadata": {},
     "output_type": "execute_result"
    }
   ],
   "source": [
    "0.03*1 *200"
   ]
  },
  {
   "cell_type": "code",
   "execution_count": 420,
   "metadata": {},
   "outputs": [
    {
     "data": {
      "text/plain": [
       "75.0"
      ]
     },
     "execution_count": 420,
     "metadata": {},
     "output_type": "execute_result"
    }
   ],
   "source": [
    "2500*0.03 "
   ]
  },
  {
   "cell_type": "code",
   "execution_count": 402,
   "metadata": {},
   "outputs": [
    {
     "name": "stderr",
     "output_type": "stream",
     "text": [
      "<ipython-input-402-5a4db9469bc3>:1: UserWarning: loadtxt: Empty input file: \"abs_Nb200_migr0.25_B+_tau2_alpha0.03_ID0_demes200_2021-01-26-13-25-51.txt\"\n",
      "  (np.mean(np.diff(np.loadtxt(af[0])[:,1])[20:]/np.diff(np.loadtxt(vf[0])[:,1])[20:]))*25*50\n"
     ]
    },
    {
     "ename": "IndexError",
     "evalue": "too many indices for array",
     "output_type": "error",
     "traceback": [
      "\u001b[0;31m---------------------------------------------------------------------------\u001b[0m",
      "\u001b[0;31mIndexError\u001b[0m                                Traceback (most recent call last)",
      "\u001b[0;32m<ipython-input-402-5a4db9469bc3>\u001b[0m in \u001b[0;36m<module>\u001b[0;34m\u001b[0m\n\u001b[0;32m----> 1\u001b[0;31m \u001b[0;34m(\u001b[0m\u001b[0mnp\u001b[0m\u001b[0;34m.\u001b[0m\u001b[0mmean\u001b[0m\u001b[0;34m(\u001b[0m\u001b[0mnp\u001b[0m\u001b[0;34m.\u001b[0m\u001b[0mdiff\u001b[0m\u001b[0;34m(\u001b[0m\u001b[0mnp\u001b[0m\u001b[0;34m.\u001b[0m\u001b[0mloadtxt\u001b[0m\u001b[0;34m(\u001b[0m\u001b[0maf\u001b[0m\u001b[0;34m[\u001b[0m\u001b[0;36m0\u001b[0m\u001b[0;34m]\u001b[0m\u001b[0;34m)\u001b[0m\u001b[0;34m[\u001b[0m\u001b[0;34m:\u001b[0m\u001b[0;34m,\u001b[0m\u001b[0;36m1\u001b[0m\u001b[0;34m]\u001b[0m\u001b[0;34m)\u001b[0m\u001b[0;34m[\u001b[0m\u001b[0;36m20\u001b[0m\u001b[0;34m:\u001b[0m\u001b[0;34m]\u001b[0m\u001b[0;34m/\u001b[0m\u001b[0mnp\u001b[0m\u001b[0;34m.\u001b[0m\u001b[0mdiff\u001b[0m\u001b[0;34m(\u001b[0m\u001b[0mnp\u001b[0m\u001b[0;34m.\u001b[0m\u001b[0mloadtxt\u001b[0m\u001b[0;34m(\u001b[0m\u001b[0mvf\u001b[0m\u001b[0;34m[\u001b[0m\u001b[0;36m0\u001b[0m\u001b[0;34m]\u001b[0m\u001b[0;34m)\u001b[0m\u001b[0;34m[\u001b[0m\u001b[0;34m:\u001b[0m\u001b[0;34m,\u001b[0m\u001b[0;36m1\u001b[0m\u001b[0;34m]\u001b[0m\u001b[0;34m)\u001b[0m\u001b[0;34m[\u001b[0m\u001b[0;36m20\u001b[0m\u001b[0;34m:\u001b[0m\u001b[0;34m]\u001b[0m\u001b[0;34m)\u001b[0m\u001b[0;34m)\u001b[0m\u001b[0;34m*\u001b[0m\u001b[0;36m25\u001b[0m\u001b[0;34m*\u001b[0m\u001b[0;36m50\u001b[0m\u001b[0;34m\u001b[0m\u001b[0;34m\u001b[0m\u001b[0m\n\u001b[0m",
      "\u001b[0;31mIndexError\u001b[0m: too many indices for array"
     ]
    }
   ],
   "source": [
    "(np.mean(np.diff(np.loadtxt(af[0])[:,1])[20:]/np.diff(np.loadtxt(vf[0])[:,1])[20:]))*25*50"
   ]
  },
  {
   "cell_type": "code",
   "execution_count": 403,
   "metadata": {},
   "outputs": [
    {
     "name": "stderr",
     "output_type": "stream",
     "text": [
      "<ipython-input-403-64818c5c273d>:1: UserWarning: loadtxt: Empty input file: \"abs_Nb200_migr0.25_B+_tau2_alpha0.03_ID0_demes200_2021-01-26-13-25-51.txt\"\n",
      "  (np.mean(np.diff(np.loadtxt(af[0])[:,1])[20:]/np.diff(np.loadtxt(vf[0])[:,1])[20:]))\n"
     ]
    },
    {
     "ename": "IndexError",
     "evalue": "too many indices for array",
     "output_type": "error",
     "traceback": [
      "\u001b[0;31m---------------------------------------------------------------------------\u001b[0m",
      "\u001b[0;31mIndexError\u001b[0m                                Traceback (most recent call last)",
      "\u001b[0;32m<ipython-input-403-64818c5c273d>\u001b[0m in \u001b[0;36m<module>\u001b[0;34m\u001b[0m\n\u001b[0;32m----> 1\u001b[0;31m \u001b[0;34m(\u001b[0m\u001b[0mnp\u001b[0m\u001b[0;34m.\u001b[0m\u001b[0mmean\u001b[0m\u001b[0;34m(\u001b[0m\u001b[0mnp\u001b[0m\u001b[0;34m.\u001b[0m\u001b[0mdiff\u001b[0m\u001b[0;34m(\u001b[0m\u001b[0mnp\u001b[0m\u001b[0;34m.\u001b[0m\u001b[0mloadtxt\u001b[0m\u001b[0;34m(\u001b[0m\u001b[0maf\u001b[0m\u001b[0;34m[\u001b[0m\u001b[0;36m0\u001b[0m\u001b[0;34m]\u001b[0m\u001b[0;34m)\u001b[0m\u001b[0;34m[\u001b[0m\u001b[0;34m:\u001b[0m\u001b[0;34m,\u001b[0m\u001b[0;36m1\u001b[0m\u001b[0;34m]\u001b[0m\u001b[0;34m)\u001b[0m\u001b[0;34m[\u001b[0m\u001b[0;36m20\u001b[0m\u001b[0;34m:\u001b[0m\u001b[0;34m]\u001b[0m\u001b[0;34m/\u001b[0m\u001b[0mnp\u001b[0m\u001b[0;34m.\u001b[0m\u001b[0mdiff\u001b[0m\u001b[0;34m(\u001b[0m\u001b[0mnp\u001b[0m\u001b[0;34m.\u001b[0m\u001b[0mloadtxt\u001b[0m\u001b[0;34m(\u001b[0m\u001b[0mvf\u001b[0m\u001b[0;34m[\u001b[0m\u001b[0;36m0\u001b[0m\u001b[0;34m]\u001b[0m\u001b[0;34m)\u001b[0m\u001b[0;34m[\u001b[0m\u001b[0;34m:\u001b[0m\u001b[0;34m,\u001b[0m\u001b[0;36m1\u001b[0m\u001b[0;34m]\u001b[0m\u001b[0;34m)\u001b[0m\u001b[0;34m[\u001b[0m\u001b[0;36m20\u001b[0m\u001b[0;34m:\u001b[0m\u001b[0;34m]\u001b[0m\u001b[0;34m)\u001b[0m\u001b[0;34m)\u001b[0m\u001b[0;34m\u001b[0m\u001b[0;34m\u001b[0m\u001b[0m\n\u001b[0m",
      "\u001b[0;31mIndexError\u001b[0m: too many indices for array"
     ]
    }
   ],
   "source": [
    "(np.mean(np.diff(np.loadtxt(af[0])[:,1])[20:]/np.diff(np.loadtxt(vf[0])[:,1])[20:]))"
   ]
  },
  {
   "cell_type": "code",
   "execution_count": 404,
   "metadata": {},
   "outputs": [
    {
     "name": "stderr",
     "output_type": "stream",
     "text": [
      "<ipython-input-404-e9da1b292c5e>:1: UserWarning: loadtxt: Empty input file: \"abs_Nb200_migr0.25_B+_tau2_alpha0.03_ID0_demes200_2021-01-26-13-25-51.txt\"\n",
      "  plt.plot(np.diff(np.loadtxt(af[0])[:,1])[20:])\n"
     ]
    },
    {
     "ename": "IndexError",
     "evalue": "too many indices for array",
     "output_type": "error",
     "traceback": [
      "\u001b[0;31m---------------------------------------------------------------------------\u001b[0m",
      "\u001b[0;31mIndexError\u001b[0m                                Traceback (most recent call last)",
      "\u001b[0;32m<ipython-input-404-e9da1b292c5e>\u001b[0m in \u001b[0;36m<module>\u001b[0;34m\u001b[0m\n\u001b[0;32m----> 1\u001b[0;31m \u001b[0mplt\u001b[0m\u001b[0;34m.\u001b[0m\u001b[0mplot\u001b[0m\u001b[0;34m(\u001b[0m\u001b[0mnp\u001b[0m\u001b[0;34m.\u001b[0m\u001b[0mdiff\u001b[0m\u001b[0;34m(\u001b[0m\u001b[0mnp\u001b[0m\u001b[0;34m.\u001b[0m\u001b[0mloadtxt\u001b[0m\u001b[0;34m(\u001b[0m\u001b[0maf\u001b[0m\u001b[0;34m[\u001b[0m\u001b[0;36m0\u001b[0m\u001b[0;34m]\u001b[0m\u001b[0;34m)\u001b[0m\u001b[0;34m[\u001b[0m\u001b[0;34m:\u001b[0m\u001b[0;34m,\u001b[0m\u001b[0;36m1\u001b[0m\u001b[0;34m]\u001b[0m\u001b[0;34m)\u001b[0m\u001b[0;34m[\u001b[0m\u001b[0;36m20\u001b[0m\u001b[0;34m:\u001b[0m\u001b[0;34m]\u001b[0m\u001b[0;34m)\u001b[0m\u001b[0;34m\u001b[0m\u001b[0;34m\u001b[0m\u001b[0m\n\u001b[0m",
      "\u001b[0;31mIndexError\u001b[0m: too many indices for array"
     ]
    }
   ],
   "source": [
    "plt.plot(np.diff(np.loadtxt(af[0])[:,1])[20:])"
   ]
  },
  {
   "cell_type": "code",
   "execution_count": 796,
   "metadata": {},
   "outputs": [
    {
     "data": {
      "text/plain": [
       "3.822"
      ]
     },
     "execution_count": 796,
     "metadata": {},
     "output_type": "execute_result"
    }
   ],
   "source": [
    "19110 *(.01/50)"
   ]
  },
  {
   "cell_type": "code",
   "execution_count": 167,
   "metadata": {},
   "outputs": [
    {
     "data": {
      "text/plain": [
       "[<matplotlib.lines.Line2D at 0x7fb5409d9610>]"
      ]
     },
     "execution_count": 167,
     "metadata": {},
     "output_type": "execute_result"
    },
    {
     "data": {
      "image/png": "[encoded data removed]",
      "text/plain": [
       "<Figure size 432x288 with 1 Axes>"
      ]
     },
     "metadata": {
      "needs_background": "light"
     },
     "output_type": "display_data"
    }
   ],
   "source": [
    "plt.plot(np.loadtxt(af[0])[:,1] / np.loadtxt(vf[0])[:,1])"
   ]
  },
  {
   "cell_type": "code",
   "execution_count": null,
   "metadata": {},
   "outputs": [],
   "source": []
  }
 ],
 "metadata": {
  "kernelspec": {
   "display_name": "Python 3",
   "language": "python",
   "name": "python3"
  },
  "language_info": {
   "codemirror_mode": {
    "name": "ipython",
    "version": 3
   },
   "file_extension": ".py",
   "mimetype": "text/x-python",
   "name": "python",
   "nbconvert_exporter": "python",
   "pygments_lexer": "ipython3",
   "version": "3.8.3"
  }
 },
 "nbformat": 4,
 "nbformat_minor": 4
}
