{
 "cells": [
  {
   "cell_type": "code",
   "execution_count": 135,
   "metadata": {},
   "outputs": [],
   "source": [
    "import matplotlib.pyplot as plt\n",
    "import numpy as np"
   ]
  },
  {
   "cell_type": "code",
   "execution_count": 236,
   "metadata": {},
   "outputs": [
    {
     "data": {
      "text/plain": [
       "<matplotlib.patches.FancyArrow at 0x7f9000af5160>"
      ]
     },
     "execution_count": 236,
     "metadata": {},
     "output_type": "execute_result"
    },
    {
     "data": {
      "image/png": "[encoded data removed]",
      "text/plain": [
       "<Figure size 648x288 with 2 Axes>"
      ]
     },
     "metadata": {
      "needs_background": "light"
     },
     "output_type": "display_data"
    }
   ],
   "source": [
    "fig,axs = plt.subplots(2,1,figsize=(9,4))\n",
    "\n",
    "ax=axs[0]\n",
    "\n",
    "ax.axis('off')\n",
    "\n",
    "colors = ['purple','orange']\n",
    "dims = [5,5,5,5,3,2,1]\n",
    "for d,b in zip(np.array(dims),np.array([0,10,20,30,40,50,60])):\n",
    "    for i in range(d):\n",
    "        for j in range(d):\n",
    "            ax.scatter(b+i,j,c=colors[np.random.randint(2)])\n",
    "            \n",
    "\n",
    "dims = [5,5,5,5,5,5,5]\n",
    "for d,b in zip(np.array(dims),np.array([0,10,20,30,40,50,60])):\n",
    "    for i in range(d):\n",
    "        for j in range(d):\n",
    "            ax.scatter(b+i,-j-4,c='w',edgecolor='k')\n",
    "            \n",
    "col_abs=[]\n",
    "for d,b in zip(np.array(dims),np.array([0,10,20,30,40,50,60])):\n",
    "        col_abs.append(colors[np.random.randint(2)])\n",
    "        ax.scatter(b+2,-4,c=col_abs[-1],edgecolor='k')\n",
    "for d,b in zip(np.array(dims),np.array([0,10,20,30,40])):\n",
    "        col_abs.append(colors[np.random.randint(2)])\n",
    "        ax.scatter(b+3,-4,c=col_abs[-1],edgecolor='k')\n",
    "\n",
    "        #ax.scatter(b+2,-4,c=colors[np.random.randint(2)],edgecolor='k')\n",
    "        \n",
    "        \n",
    "for d,b in zip(np.array(dims),np.array([0,10,20,30,40])):\n",
    "        ax.scatter(b+3,-4,c=colors[np.random.randint(2)],edgecolor='k')\n",
    "            \n",
    "\n",
    "            \n",
    "            \n",
    "for x in np.array([0]):\n",
    "    ax.text(x+4,4,r'$\\curvearrowleft$',fontsize=50)\n",
    "    ax.text(x+4,8,r'$m$')\n",
    "    ax.text(x+5,4,r'$\\curvearrowright$',fontsize=50)\n",
    "    ax.text(x+8,8,r'$m$')\n",
    "for x in np.array([10,20,30,40,50]):\n",
    "    ax.text(x+4,4,r'$\\curvearrowleft$',fontsize=50)\n",
    "    ax.text(x+4,8,r'$m/2$')\n",
    "    ax.text(x+5,4,r'$\\curvearrowright$',fontsize=50)\n",
    "    ax.text(x+8,8,r'$m/2$')\n",
    "\n",
    "for x in np.array([0,10,20,30,40,50,60]):\n",
    "    ax.text(x+3,-2.5, r'$\\langle \\alpha V_i B_i \\rangle $')\n",
    "\n",
    "\n",
    "for x in np.array([0,10,20,30,40,50,60]):\n",
    "    ax.arrow(x-3,-.5,0,5,clip_on= False)\n",
    "for x in np.array([0,10,20,30,40,50,60]):\n",
    "    ax.arrow(x+2,-1,0,-2,clip_on= False, head_width=.5)\n",
    "    \n",
    "\n",
    "ax.arrow(-4,-1,70,0,clip_on= False)\n",
    "\n",
    "\n",
    "\n",
    "ax=axs[1]\n",
    "\n",
    "ax.axis('off')\n",
    "colors = ['purple','orange']\n",
    "dims = [5,5,5,5,3,2,1]\n",
    "for d,b in zip(np.array(dims),np.array([0,10,20,30,40,50,60])):\n",
    "    for i in range(d):\n",
    "        for j in range(d):\n",
    "            ax.scatter(b+i,j,c=colors[np.random.randint(2)])\n",
    "            \n",
    "\n",
    "dims = [5,5,5,5,5,5,5]\n",
    "for d,b in zip(np.array(dims),np.array([0,10,20,30,40,50,60])):\n",
    "    for i in range(d):\n",
    "        for j in range(d):\n",
    "            ax.scatter(b+i,-j-4,c='w',edgecolor='k')\n",
    "            \n",
    "            \n",
    "for d,b in zip(np.array(dims),np.array([0,10,20,30,40,50,60])):\n",
    "        ax.scatter(b+2,-4,c='grey',edgecolor='k')\n",
    "for d,b in zip(np.array(dims),np.array([0,10,20,30,40])):\n",
    "        ax.scatter(b+3,-4,c='grey',edgecolor='k')\n",
    "            \n",
    "col_cnt=0\n",
    "for d,b in zip(np.array(dims),np.array([0,10,20,30,40,50,60])):\n",
    "    ax.scatter(b,-2.5,c=col_abs[col_cnt],edgecolor='k')\n",
    "    col_cnt+=1\n",
    "for d,b in zip(np.array(dims),np.array([0,10,20,30,40])):\n",
    "    ax.scatter(b+5,-2.5,c=col_abs[col_cnt],edgecolor='k')\n",
    "    col_cnt+=1\n",
    "    \n",
    "            \n",
    "#for x in np.array([0]):\n",
    "#    ax.text(x+4,4,r'$\\curvearrowleft$',fontsize=50)\n",
    "#    ax.text(x+4,8,r'$m$')\n",
    "#    ax.text(x+5,4,r'$\\curvearrowright$',fontsize=50)\n",
    "#    ax.text(x+8,8,r'$m$')\n",
    "#for x in np.array([10,20,30,40,50]):\n",
    "#    ax.text(x+4,4,r'$\\curvearrowleft$',fontsize=50)\n",
    "#    ax.text(x+4,8,r'$m/2$')\n",
    "#    ax.text(x+5,4,r'$\\curvearrowright$',fontsize=50)\n",
    "#    ax.text(x+8,8,r'$m/2$')\n",
    "\n",
    "for x in np.array([0,10,20,30,40,50,60]):\n",
    "    ax.text(x+7,-2.5, r'$\\beta $')\n",
    "\n",
    "\n",
    "for x in np.array([0,10,20,30,40,50,60]):\n",
    "    ax.arrow(x-3,-.5,0,5,clip_on= False)\n",
    "for x in np.array([0,10,20,30,40,50,60]):\n",
    "    ax.arrow(x+2,-4,0,2,clip_on= False, head_width=.5)\n",
    "for x in np.array([0,10,20,30,40]):\n",
    "    ax.arrow(x+3,-4,0,2,clip_on= False, head_width=.5)\n",
    "    \n",
    "\n",
    "ax.arrow(-4,-1,70,0,clip_on= False)"
   ]
  },
  {
   "cell_type": "code",
   "execution_count": 170,
   "metadata": {},
   "outputs": [
    {
     "name": "stderr",
     "output_type": "stream",
     "text": [
      "<ipython-input-170-fd7121dade71>:5: MatplotlibDeprecationWarning: Adding an axes using the same arguments as a previous axes currently reuses the earlier instance.  In a future version, a new instance will always be created and returned.  Meanwhile, this warning can be suppressed, and the future behavior ensured, by passing a unique label to each axes instance.\n",
      "  plt.axes().set_ylim(-0.9,0.7)\n",
      "<ipython-input-170-fd7121dade71>:6: MatplotlibDeprecationWarning: Adding an axes using the same arguments as a previous axes currently reuses the earlier instance.  In a future version, a new instance will always be created and returned.  Meanwhile, this warning can be suppressed, and the future behavior ensured, by passing a unique label to each axes instance.\n",
      "  plt.axes().set_aspect(1)\n"
     ]
    },
    {
     "data": {
      "image/png": "[encoded data removed]",
      "text/plain": [
       "<Figure size 432x288 with 1 Axes>"
      ]
     },
     "metadata": {
      "needs_background": "light"
     },
     "output_type": "display_data"
    }
   ],
   "source": [
    "import matplotlib.pyplot as plt\n",
    "import matplotlib.patches as patches\n",
    "\n",
    "plt.axes().set_xlim(-.5,0.5)\n",
    "plt.axes().set_ylim(-0.9,0.7)\n",
    "plt.axes().set_aspect(1)\n",
    "\n",
    "style = \"Simple, tail_width=0.5, head_width=4, head_length=8\"\n",
    "kw = dict(arrowstyle=style, color=\"k\")\n",
    "\n",
    "a1 = patches.FancyArrowPatch((-0.4, -0.6), (0, 0.6), **kw)\n",
    "a2 = patches.FancyArrowPatch((0, 0.6), (0.4, -0.6), **kw)\n",
    "a3 = patches.FancyArrowPatch((-0.4, -0.6), (0.4, -0.6),\n",
    "                             connectionstyle=\"arc3,rad=.5\", **kw)\n",
    "\n",
    "for a in [a3]:\n",
    "    plt.gca().add_patch(a)\n",
    "plt.show()"
   ]
  },
  {
   "cell_type": "code",
   "execution_count": null,
   "metadata": {},
   "outputs": [],
   "source": []
  }
 ],
 "metadata": {
  "kernelspec": {
   "display_name": "Python 3",
   "language": "python",
   "name": "python3"
  },
  "language_info": {
   "codemirror_mode": {
    "name": "ipython",
    "version": 3
   },
   "file_extension": ".py",
   "mimetype": "text/x-python",
   "name": "python",
   "nbconvert_exporter": "python",
   "pygments_lexer": "ipython3",
   "version": "3.8.3"
  }
 },
 "nbformat": 4,
 "nbformat_minor": 4
}
