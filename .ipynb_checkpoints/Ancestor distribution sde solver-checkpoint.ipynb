{
 "cells": [
  {
   "cell_type": "code",
   "execution_count": 57,
   "metadata": {},
   "outputs": [],
   "source": [
    "import numpy as np\n",
    "import glob\n",
    "import matplotlib.pyplot as plt\n",
    "import os"
   ]
  },
  {
   "cell_type": "code",
   "execution_count": 164,
   "metadata": {},
   "outputs": [],
   "source": [
    "taus= np.array([50])\n",
    "samps=100\n",
    "Ndemes=200"
   ]
  },
  {
   "cell_type": "code",
   "execution_count": 165,
   "metadata": {},
   "outputs": [],
   "source": [
    "samps=470\n",
    "parr = np.zeros((len(taus),samps,Ndemes))\n",
    "for i,tau in enumerate(taus):\n",
    "    for ID in range(1,samps+1):\n",
    "        proff = glob.glob('/Users/nikhilkrishnan/Dropbox/Research/PhD/phage_ibm/anc_data_sde/algo2/profile_phage*tau'+str(tau)+'*ID'+str(ID)+'*demes200*.txt')\n",
    "        cnt=0\n",
    "\n",
    "        try:\n",
    "            #plt.plot(np.loadtxt(pf)[:,1])\n",
    "\n",
    "            parr[i,ID-1]= np.loadtxt(proff[0])[:,1]\n",
    "            cnt+=1\n",
    "\n",
    "        except:\n",
    "            print(tau,ID)\n",
    "\n",
    "\n"
   ]
  },
  {
   "cell_type": "code",
   "execution_count": 166,
   "metadata": {},
   "outputs": [
    {
     "data": {
      "text/plain": [
       "array([470])"
      ]
     },
     "execution_count": 166,
     "metadata": {},
     "output_type": "execute_result"
    }
   ],
   "source": [
    "np.sum(parr[:,:,0]>0,axis=1)\n"
   ]
  },
  {
   "cell_type": "code",
   "execution_count": 167,
   "metadata": {},
   "outputs": [
    {
     "data": {
      "text/plain": [
       "[<matplotlib.lines.Line2D at 0x7fbf8b141b50>]"
      ]
     },
     "execution_count": 167,
     "metadata": {},
     "output_type": "execute_result"
    },
    {
     "data": {
      "image/png": "[encoded data removed]",
      "text/plain": [
       "<Figure size 432x288 with 1 Axes>"
      ]
     },
     "metadata": {
      "needs_background": "light"
     },
     "output_type": "display_data"
    }
   ],
   "source": [
    "plt.plot(np.sum(parr.T,axis=1)/np.sum(parr[:,:,0]>0,axis=1))\n"
   ]
  },
  {
   "cell_type": "code",
   "execution_count": 168,
   "metadata": {},
   "outputs": [],
   "source": [
    "p5arr = np.zeros((len(taus),samps))\n",
    "\n",
    "for i,tau in enumerate(taus):\n",
    "    for ID in range(1,samps+1):\n",
    "        try:\n",
    "            p5arr[i,ID-1] = np.argmax(np.argwhere((parr[i,ID-1]/np.max(parr[i,ID-1]) > .5))) + 1 \n",
    "        except:     \n",
    "            print(tau,ID)"
   ]
  },
  {
   "cell_type": "code",
   "execution_count": null,
   "metadata": {},
   "outputs": [],
   "source": []
  },
  {
   "cell_type": "code",
   "execution_count": 169,
   "metadata": {},
   "outputs": [],
   "source": [
    "cnt=0 \n",
    "farr = np.zeros((len(taus),Ndemes))\n",
    "for i,tau in enumerate(taus):\n",
    "    marks= []\n",
    "    for ID in range(1,samps+1):\n",
    "        try:\n",
    "            logf = glob.glob('/Users/nikhilkrishnan/Dropbox/Research/PhD/phage_ibm/anc_data_sde/algo2/log*tau'+str(tau)+'_*ID'+str(ID)+'*demes200*.txt')\n",
    "\n",
    "\n",
    "\n",
    "            file = logf[0]\n",
    "        #for file in logf:\n",
    "\n",
    "\n",
    "            f =open(file, \"r\")\n",
    "            marks.append(f.read()[-4:-1])\n",
    "        except:\n",
    "            print(tau,ID)\n",
    "            \n",
    "    if len(marks)>0:\n",
    "        \n",
    "        fix_marks=[]\n",
    "        for ID,m in enumerate(marks):\n",
    "            if len(m)>0:\n",
    "                #fix_marks.append(int(m))\n",
    "                if p5arr[i,ID-1]>0:\n",
    "                    fix_marks.append(int(m) - p5arr[i,ID-1])\n",
    "                    #fixmarks.append(int(m))\n",
    "\n",
    "\n",
    "\n",
    "\n",
    "        \n",
    "        farr[i]= np.bincount(np.array(fix_marks).astype(int)+int(np.mean(p5arr[p5arr>0])) ,minlength=Ndemes)\n",
    "        #farr[i]=np.bincount(np.array(fix_marks).astype(int),minlength=Ndemes)\n",
    "\n",
    "               \n",
    "    \n",
    "            \n",
    "            "
   ]
  },
  {
   "cell_type": "code",
   "execution_count": 170,
   "metadata": {},
   "outputs": [
    {
     "ename": "IndexError",
     "evalue": "index 1 is out of bounds for axis 0 with size 1",
     "output_type": "error",
     "traceback": [
      "\u001b[0;31m---------------------------------------------------------------------------\u001b[0m",
      "\u001b[0;31mIndexError\u001b[0m                                Traceback (most recent call last)",
      "\u001b[0;32m<ipython-input-170-1a2206160f5f>\u001b[0m in \u001b[0;36m<module>\u001b[0;34m\u001b[0m\n\u001b[1;32m      1\u001b[0m \u001b[0mplt\u001b[0m\u001b[0;34m.\u001b[0m\u001b[0mplot\u001b[0m\u001b[0;34m(\u001b[0m\u001b[0mfarr\u001b[0m\u001b[0;34m[\u001b[0m\u001b[0;36m0\u001b[0m\u001b[0;34m]\u001b[0m\u001b[0;34m)\u001b[0m\u001b[0;34m\u001b[0m\u001b[0;34m\u001b[0m\u001b[0m\n\u001b[1;32m      2\u001b[0m \u001b[0;34m\u001b[0m\u001b[0m\n\u001b[0;32m----> 3\u001b[0;31m \u001b[0mplt\u001b[0m\u001b[0;34m.\u001b[0m\u001b[0mplot\u001b[0m\u001b[0;34m(\u001b[0m\u001b[0mfarr\u001b[0m\u001b[0;34m[\u001b[0m\u001b[0;36m1\u001b[0m\u001b[0;34m]\u001b[0m\u001b[0;34m)\u001b[0m\u001b[0;34m\u001b[0m\u001b[0;34m\u001b[0m\u001b[0m\n\u001b[0m\u001b[1;32m      4\u001b[0m \u001b[0mplt\u001b[0m\u001b[0;34m.\u001b[0m\u001b[0mplot\u001b[0m\u001b[0;34m(\u001b[0m\u001b[0mfarr\u001b[0m\u001b[0;34m[\u001b[0m\u001b[0;36m2\u001b[0m\u001b[0;34m]\u001b[0m\u001b[0;34m)\u001b[0m\u001b[0;34m\u001b[0m\u001b[0;34m\u001b[0m\u001b[0m\n",
      "\u001b[0;31mIndexError\u001b[0m: index 1 is out of bounds for axis 0 with size 1"
     ]
    },
    {
     "data": {
      "image/png": "[encoded data removed]",
      "text/plain": [
       "<Figure size 432x288 with 1 Axes>"
      ]
     },
     "metadata": {
      "needs_background": "light"
     },
     "output_type": "display_data"
    }
   ],
   "source": [
    "\n",
    "plt.plot(farr[0])\n",
    "\n",
    "plt.plot(farr[1])\n",
    "plt.plot(farr[2])"
   ]
  },
  {
   "cell_type": "code",
   "execution_count": 171,
   "metadata": {},
   "outputs": [
    {
     "ename": "IndexError",
     "evalue": "index 1 is out of bounds for axis 0 with size 1",
     "output_type": "error",
     "traceback": [
      "\u001b[0;31m---------------------------------------------------------------------------\u001b[0m",
      "\u001b[0;31mIndexError\u001b[0m                                Traceback (most recent call last)",
      "\u001b[0;32m<ipython-input-171-068bbeb28810>\u001b[0m in \u001b[0;36m<module>\u001b[0;34m\u001b[0m\n\u001b[0;32m----> 1\u001b[0;31m \u001b[0mfarr\u001b[0m\u001b[0;34m[\u001b[0m\u001b[0;36m1\u001b[0m\u001b[0;34m]\u001b[0m\u001b[0;34m\u001b[0m\u001b[0;34m\u001b[0m\u001b[0m\n\u001b[0m",
      "\u001b[0;31mIndexError\u001b[0m: index 1 is out of bounds for axis 0 with size 1"
     ]
    }
   ],
   "source": [
    "farr[1]"
   ]
  },
  {
   "cell_type": "code",
   "execution_count": 172,
   "metadata": {},
   "outputs": [
    {
     "data": {
      "text/plain": [
       "array([ 0.,  0.,  0.,  0.,  0.,  0.,  0.,  0.,  0.,  0.,  0.,  0.,  0.,\n",
       "        0.,  0.,  0.,  0.,  0.,  0.,  0.,  0.,  0.,  0.,  0.,  0.,  0.,\n",
       "        0.,  0.,  0.,  0.,  0.,  0.,  0.,  0.,  0.,  0.,  0.,  0.,  0.,\n",
       "        0.,  0.,  0.,  0.,  0.,  0.,  0.,  0.,  0.,  0.,  0.,  0.,  0.,\n",
       "        0.,  0.,  0.,  0.,  0.,  0.,  0.,  0.,  0.,  0.,  0.,  0.,  0.,\n",
       "        0.,  0.,  0.,  0.,  0.,  0.,  0.,  0.,  0.,  0.,  0.,  0.,  0.,\n",
       "        0.,  0.,  0.,  0.,  0.,  0.,  0.,  0.,  0.,  0.,  0.,  0.,  1.,\n",
       "        0.,  0.,  1.,  3.,  4.,  4., 11., 16., 23., 38., 54., 57., 52.,\n",
       "       47., 41., 30., 31., 26., 13.,  9.,  6.,  1.,  1.,  1.,  0.,  0.,\n",
       "        0.,  0.,  0.,  0.,  0.,  0.,  0.,  0.,  0.,  0.,  0.,  0.,  0.,\n",
       "        0.,  0.,  0.,  0.,  0.,  0.,  0.,  0.,  0.,  0.,  0.,  0.,  0.,\n",
       "        0.,  0.,  0.,  0.,  0.,  0.,  0.,  0.,  0.,  0.,  0.,  0.,  0.,\n",
       "        0.,  0.,  0.,  0.,  0.,  0.,  0.,  0.,  0.,  0.,  0.,  0.,  0.,\n",
       "        0.,  0.,  0.,  0.,  0.,  0.,  0.,  0.,  0.,  0.,  0.,  0.,  0.,\n",
       "        0.,  0.,  0.,  0.,  0.,  0.,  0.,  0.,  0.,  0.,  0.,  0.,  0.,\n",
       "        0.,  0.,  0.,  0.,  0.])"
      ]
     },
     "execution_count": 172,
     "metadata": {},
     "output_type": "execute_result"
    }
   ],
   "source": [
    "farr[0]"
   ]
  },
  {
   "cell_type": "code",
   "execution_count": 173,
   "metadata": {},
   "outputs": [
    {
     "data": {
      "image/png": "[encoded data removed]",
      "text/plain": [
       "<Figure size 576x576 with 1 Axes>"
      ]
     },
     "metadata": {
      "needs_background": "light"
     },
     "output_type": "display_data"
    }
   ],
   "source": [
    "fig, ax= plt.subplots(figsize=(8,8))\n",
    "\n",
    "\n",
    "\n",
    "colors = ['navy', 'orange', 'purple', 'maroon','grey']\n",
    "buff= int(np.mean(p5arr[i][p5arr[i]>0])) - int(np.min(np.mean(p5arr[i][p5arr[i]>0],axis=0)))\n",
    "xi=int(np.min(np.mean(p5arr[i][p5arr[i]>0],axis=0)))-30\n",
    "xf=int(np.min(np.mean(p5arr[i][p5arr[i]>0],axis=0)))+30\n",
    "\n",
    "for i,tau in enumerate(taus):\n",
    "    avg_arr =np.zeros(60)\n",
    "    cnt=0\n",
    "    #buff= int(np.mean(p5arr[p5arr>0][i])) - int(np.min(np.mean(p5arr[p5arr>0],axis=1)))\n",
    "    #xi=int(np.min(np.mean(p5arr[i][p5arr[i]>0],axis=0)))-30\n",
    "    #xf=int(np.min(np.mean(p5arr[i][p5arr[i]>0],axis=0)))+30\n",
    "    buff= int(np.mean(p5arr[i][p5arr[i]>0])) - int(np.min(np.mean(p5arr,axis=1)))\n",
    "    for ID in range(1,samps+1):\n",
    "        if not np.all(parr[i,ID-1]==0):\n",
    "            cnt+=1\n",
    "\n",
    "            avg_arr+=  parr[i,ID-11,int(p5arr[i,ID-1]-30-buff):int(p5arr[i,ID-1]+30-buff)] \n",
    "    \n",
    "    ax.plot(.6*(avg_arr/cnt)/np.max(avg_arr/cnt),lw=3,c=colors[i])\n",
    "#ax.plot(.6*(parr[1]/np.max(parr[1]))[20:60],c='grey')\n",
    "\n",
    "\n",
    "for i in range(len(taus)):\n",
    "    xi=int(np.min(np.mean(p5arr,axis=1)))-30\n",
    "    xf=int(np.min(np.mean(p5arr,axis=1)))+30\n",
    "    ax.plot((farr[i]/np.sum(farr[i]))[xi:xf],linestyle='--',lw=1,c=colors[i])\n",
    "    ax.scatter(np.arange(xf-xi),(farr[i]/np.sum(farr[i]))[xi:xf],c=colors[i],s=70,label = r'$\\tau = $' + str(taus[i]))\n",
    "    \n",
    "    \n",
    "ax.legend(fontsize=12)\n",
    "for axis in ['left','bottom']:\n",
    "    ax.spines[axis].set_linewidth(2)\n",
    "ax.spines['right'].set_visible(False)\n",
    "ax.spines['top'].set_visible(False)\n",
    "\n",
    "ax.xaxis.set_tick_params(labelsize=20)\n",
    "ax.yaxis.set_tick_params(labelsize=20)\n",
    "\n"
   ]
  },
  {
   "cell_type": "code",
   "execution_count": 141,
   "metadata": {},
   "outputs": [
    {
     "data": {
      "text/plain": [
       "array([103.532,  99.96 ])"
      ]
     },
     "execution_count": 141,
     "metadata": {},
     "output_type": "execute_result"
    }
   ],
   "source": [
    "np.mean(p5arr,axis=1)"
   ]
  },
  {
   "cell_type": "code",
   "execution_count": 143,
   "metadata": {},
   "outputs": [
    {
     "data": {
      "text/plain": [
       "4"
      ]
     },
     "execution_count": 143,
     "metadata": {},
     "output_type": "execute_result"
    }
   ],
   "source": [
    "i=0\n",
    "\n",
    "int(np.mean(p5arr[i][p5arr[i]>0])) - int(np.min(np.mean(p5arr,axis=1)))"
   ]
  },
  {
   "cell_type": "code",
   "execution_count": 49,
   "metadata": {},
   "outputs": [
    {
     "name": "stderr",
     "output_type": "stream",
     "text": [
      "<ipython-input-49-062de8a302ef>:1: RuntimeWarning: invalid value encountered in true_divide\n",
      "  plt.plot(((farr[i]/np.sum(farr[i]))[xi:xf] )/ ((avg_arr/cnt)/np.max(avg_arr/cnt)))\n"
     ]
    },
    {
     "data": {
      "text/plain": [
       "[<matplotlib.lines.Line2D at 0x7fbf79735160>]"
      ]
     },
     "execution_count": 49,
     "metadata": {},
     "output_type": "execute_result"
    },
    {
     "data": {
      "image/png": "[encoded data removed]",
      "text/plain": [
       "<Figure size 432x288 with 1 Axes>"
      ]
     },
     "metadata": {
      "needs_background": "light"
     },
     "output_type": "display_data"
    }
   ],
   "source": [
    "plt.plot(((farr[i]/np.sum(farr[i]))[xi:xf] )/ ((avg_arr/cnt)/np.max(avg_arr/cnt)))"
   ]
  },
  {
   "cell_type": "code",
   "execution_count": 118,
   "metadata": {},
   "outputs": [
    {
     "data": {
      "text/plain": [
       "0"
      ]
     },
     "execution_count": 118,
     "metadata": {},
     "output_type": "execute_result"
    }
   ],
   "source": [
    "int(np.mean(p5arr[i][p5arr[i]>0])) - int(np.min(np.mean(p5arr[i][p5arr[i]>0],axis=0)))"
   ]
  },
  {
   "cell_type": "code",
   "execution_count": 120,
   "metadata": {},
   "outputs": [
    {
     "data": {
      "text/plain": [
       "140.0188679245283"
      ]
     },
     "execution_count": 120,
     "metadata": {},
     "output_type": "execute_result"
    }
   ],
   "source": [
    "np.mean(p5arr[i][p5arr[i]>0])"
   ]
  },
  {
   "cell_type": "code",
   "execution_count": 45,
   "metadata": {},
   "outputs": [
    {
     "data": {
      "text/plain": [
       "[]"
      ]
     },
     "execution_count": 45,
     "metadata": {},
     "output_type": "execute_result"
    }
   ],
   "source": [
    "logf"
   ]
  },
  {
   "cell_type": "code",
   "execution_count": 89,
   "metadata": {},
   "outputs": [
    {
     "data": {
      "text/plain": [
       "[<matplotlib.lines.Line2D at 0x7fb3c0a193a0>]"
      ]
     },
     "execution_count": 89,
     "metadata": {},
     "output_type": "execute_result"
    },
    {
     "data": {
      "image/png": "[encoded data removed]",
      "text/plain": [
       "<Figure size 432x288 with 1 Axes>"
      ]
     },
     "metadata": {
      "needs_background": "light"
     },
     "output_type": "display_data"
    }
   ],
   "source": [
    "plt.plot(farr[0])"
   ]
  },
  {
   "cell_type": "code",
   "execution_count": null,
   "metadata": {},
   "outputs": [],
   "source": [
    "fig, ax= plt.subplots(figsize=(8,8))\n",
    "\n",
    "\n",
    "xi=40\n",
    "xf=60\n",
    "\n",
    "colors = ['navy', 'orange', 'purple', 'maroon']\n",
    "for i in range(len(taus)):\n",
    "    ax.plot(.6*(parr[i]/np.max(parr[i]))[xi:xf],lw=2,c=colors[i])\n",
    "#ax.plot(.6*(parr[1]/np.max(parr[1]))[20:60],c='grey')\n",
    "\n",
    "\n",
    "for d0  in np.argwhere(farr[3]>0):\n",
    "    print(d0)\n",
    "    th = farr[3][d0[0]]/np.max(farr[3])*4 +2\n",
    "\n",
    "    ax.plot([d0[0]-40,d0[0]+1-40],.6*(parr[3]/np.max(parr[3]))[d0[0]:d0[0]+2],lw=th,c= 'maroon')\n",
    "\n",
    "#for i in range(len(taus)):\n",
    "#    ax.plot((farr[i]/500)[xi:xf],label = r'$\\tau = $' + str(taus[i]),linestyle='--',lw=1,c=colors[i])\n",
    "#    ax.scatter(np.arange(xf-xi),(farr[i]/500)[xi:xf],c=colors[i],s=70)\n",
    "    \n",
    "    \n",
    "ax.legend(fontsize=12)\n",
    "for axis in ['left','bottom']:\n",
    "    ax.spines[axis].set_linewidth(2)\n",
    "ax.spines['right'].set_visible(False)\n",
    "ax.spines['top'].set_visible(False)\n",
    "\n",
    "ax.xaxis.set_tick_params(labelsize=20)\n",
    "ax.yaxis.set_tick_params(labelsize=20)\n",
    "\n",
    "\n"
   ]
  }
 ],
 "metadata": {
  "kernelspec": {
   "display_name": "Python 3",
   "language": "python",
   "name": "python3"
  },
  "language_info": {
   "codemirror_mode": {
    "name": "ipython",
    "version": 3
   },
   "file_extension": ".py",
   "mimetype": "text/x-python",
   "name": "python",
   "nbconvert_exporter": "python",
   "pygments_lexer": "ipython3",
   "version": "3.8.3"
  }
 },
 "nbformat": 4,
 "nbformat_minor": 4
}
