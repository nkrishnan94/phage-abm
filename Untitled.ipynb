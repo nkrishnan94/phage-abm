{
 "cells": [
  {
   "cell_type": "code",
   "execution_count": 96,
   "metadata": {},
   "outputs": [],
   "source": [
    "import matplotlib\n",
    "import matplotlib.pyplot as plt\n",
    "import numpy as np\n",
    "\n",
    "from scipy import integrate\n",
    "from matplotlib.colorbar import Colorbar\n",
    "from data_analysis_tools import *\n",
    "\n",
    "import matplotlib\n",
    "import matplotlib.pyplot as plt\n",
    "import numpy as np\n",
    "\n",
    "from scipy import integrate\n",
    "from matplotlib.colorbar import Colorbar\n",
    "from data_analysis_tools import *\n",
    "\n",
    "def profile_decay(r, migr, B):\n",
    "    if B <= 2.0:\n",
    "        lm = np.sqrt(2.*r/migr)\n",
    "    else:\n",
    "        lm = np.sqrt(r*B/migr)\n",
    "    return lm\n",
    "\n",
    "def profile(gf, migr, fstr, x):\n",
    "    D = migr/2.\n",
    "    if fstr > -0.5:\n",
    "        prof = 1./(1. + np.exp(np.sqrt(gf/(2.*D))*x))\n",
    "    else:\n",
    "        prof = 1./(1. + np.exp(np.sqrt(gf*abs(fstr)/D)*x))\n",
    "    return prof\n",
    "\n",
    "def velocity(g, m, f):\n",
    "    D = m/2.\n",
    "    if f >= -0.5:\n",
    "        v = np.sqrt(D*g/2.)*(1 - 2.*f)\n",
    "    else:\n",
    "        v = 2.*np.sqrt(D*g*abs(f))\n",
    "    return v\n",
    "\n",
    "def velocity_Fisher(g, m, f):\n",
    "    D = m/2.\n",
    "    if f <= 0.0:\n",
    "        v_F = 2.*np.sqrt(D*g*abs(f))\n",
    "    else:\n",
    "        v_F = 0.\n",
    "    return v_F\n",
    "\n",
    "def v_coop(r, m, B):\n",
    "    D = m/2.\n",
    "    if B > 2.:\n",
    "        v = np.sqrt(D*r*B/2.)*(1 + 2./B)\n",
    "    else:\n",
    "        v = 2.*np.sqrt(D*r)\n",
    "    return v\n",
    "\n",
    "def vF_coop(r, m, B):\n",
    "    D = m/2.\n",
    "    vF = 2.*np.sqrt(D*r)\n",
    "    return vF\n",
    "\n",
    "def growth(g, f, x):\n",
    "    return g*(1 - x)*(x - f)\n",
    "\n",
    "def fixation_const(gf, migr, fstr, x_min, x_max, dx):\n",
    "    x_arr = np.arange(x_min, x_max, dx)\n",
    "    c_arr = profile(gf, migr, fstr, x_arr)\n",
    "    v = velocity(gf, migr, fstr)\n",
    "    D = migr/2.\n",
    "\n",
    "    prelim_prob = c_arr**2*np.exp(v*x_arr/D)\n",
    "    const = integrate.simps(prelim_prob, x_arr)\n",
    "    return const\n",
    "\n",
    "def fixation_probability(gf, migr, fstr, x_min, x_max, dx, x):\n",
    "    c = profile(gf, migr, fstr, x)\n",
    "    v = velocity(gf, migr, fstr)\n",
    "    D = migr/2.\n",
    "    const = fixation_const(gf, migr, fstr, x_min, x_max, dx)\n",
    "    prob = c**2*np.exp(v*x/D)/const\n",
    "    return prob\n",
    "\n",
    "def ancestral_probability(gf, migr, fstr, x_min, x_max, dx, x):\n",
    "    c = profile(gf, migr, fstr, x)\n",
    "    v = velocity(gf, migr, fstr)\n",
    "    D = migr/2.\n",
    "    const = fixation_const(gf, migr, fstr, x_min, x_max, dx)\n",
    "    prob = c**3*np.exp(2*v*x/D)/(const**2)\n",
    "    return prob\n",
    "\n",
    "def meanfield_cutoff(gf, migr, fstr, N):\n",
    "    D = migr/2.\n",
    "    if fstr > -0.5:\n",
    "        k = np.sqrt(gf/(2.*D))\n",
    "    else:\n",
    "        k = np.sqrt(gf*abs(fstr)/D)\n",
    "    return np.log(N)/k\n",
    "\n",
    "def fluctuations_cutoff(gf, migr, fstr, N):\n",
    "    D = migr/2.\n",
    "    if fstr > -0.5:\n",
    "        q = -2.*fstr*np.sqrt(gf/(2.*D))\n",
    "    else:\n",
    "        q = np.sqrt(gf*abs(fstr)/D)\n",
    "    return np.log(N)/q\n",
    "\n",
    "def Lambda_theory_cooperative(B, N):\n",
    "    return np.sqrt(0.01*B/0.25)*4*np.pi*np.tan(2*np.pi/B)/(B+4)/N\n",
    "\n",
    "def Lambda_theory_Allee(fstr, N, x_min, x_max, dx):\n",
    "    gf = 0.01\n",
    "    migr = 0.25\n",
    "    x_arr = np.arange(x_min, x_max, dx)\n",
    "    c_arr = profile(gf, migr, fstr, x_arr)\n",
    "    v = velocity(gf, migr, fstr)\n",
    "    D = migr/2.\n",
    "\n",
    "    const = fixation_const(gf, migr, fstr, x_min, x_max, dx)\n",
    "    function = c_arr**3*np.exp(2*v*x_arr/D)/(const**2)\n",
    "\n",
    "    Lambda = (1./N)*integrate.simps(function, x_arr)\n",
    "    return Lambda\n",
    "\n",
    "def Df_theory(r, m, B, N):\n",
    "    D = m/2.\n",
    "    x = 2./B\n",
    "    lm = profile_decay(r, 2*D, B)\n",
    "\n",
    "    const = 3/(20*np.pi*N*lm)\n",
    "    trig = np.tan(2*np.pi/B)\n",
    "    algebr = (B*(B+4.)*(3*B+4.))/((B+1.)*(B+2.))\n",
    "    return const*trig*algebr\n",
    "\n",
    "def det_metastable(a):\n",
    "    return 2*np.sqrt(a**2 + 4*(1. - a))/(a + np.sqrt(a**2 + 4*(1. - a)))\n",
    "\n",
    "def meanfield_exponent(f):\n",
    "    v = velocity(0.01, 0.25, f)\n",
    "    vF = velocity_Fisher(0.01, 0.25, f)\n",
    "    v_arr = v/vF\n",
    "    return v_arr, -2 - 4*f\n",
    "\n",
    "def fluctuations_exponent(f):\n",
    "    v = velocity(0.01, 0.25, f)\n",
    "    vF = velocity_Fisher(0.01, 0.25, f)\n",
    "    v_arr = v/vF\n",
    "    return v_arr, (1 + 2*f)/(2.*f)\n",
    "def Fig1_growth(labels_flag, label_size):\n",
    "    font = {'family' : 'sans-serif', 'serif' : 'Helvetica Neue', 'weight' : 'bold', 'size' : 8}\n",
    "    matplotlib.rc('font', **font)\n",
    "\n",
    "    gf = 0.01\n",
    "    gf_pushed = 4*gf\n",
    "    m = 1.25\n",
    "    dx = 0.01\n",
    "    x_min = -40\n",
    "    x_max = 50\n",
    "    f_pulled = -1.0\n",
    "    f_pushed = -0.08\n",
    "\n",
    "    min_f = -0.8\n",
    "    max_f = -0.2\n",
    "    f_arr = np.arange(min_f, max_f, 0.01)\n",
    "    f_pulled_arr = np.arange(min_f, -0.5, 0.001)\n",
    "    f_pushed_arr = np.arange(-0.5, max_f, 0.001)\n",
    "    v_arr = np.array([velocity(gf, m, f) for f in f_arr])\n",
    "    vF_arr = np.array([velocity_Fisher(gf, m, f) for f in f_arr])\n",
    "    v_ratio_arr = v_arr/vF_arr\n",
    "\n",
    "    min_v = 0.95*min(v_ratio_arr)\n",
    "    max_v = 1.05*max(v_ratio_arr)\n",
    "       \n",
    "    y_pp_transition = np.arange(min_v, max_v, 0.001)\n",
    "    x_pp_transition = -0.5*np.ones(len(y_pp_transition))\n",
    "\n",
    "    x_array = np.arange(x_min, x_max, 0.01)\n",
    "    pulled_profile = np.array([profile(gf, m, f_pulled, x) for x in x_array])\n",
    "    pulled_growth = np.array(growth(gf, f_pulled, pulled_profile))\n",
    "    pushed_profile = np.array([profile(gf_pushed, m, f_pushed, x) for x in x_array])\n",
    "    pushed_growth = np.array(growth(gf_pushed, f_pushed, pushed_profile))\n",
    "\n",
    "\n",
    "    fig = plt.figure(figsize=(cm2inch(17.8),cm2inch(5.8)))\n",
    "\n",
    "    ax = fig.add_subplot(131)\n",
    "    ax.set_ylim([min_v, max_v])\n",
    "    ax.set_yticks([])\n",
    "    ax.set_xlabel('cooperativity, B', fontsize=label_size, fontweight='bold')\n",
    "    ax.set_ylabel('velocity, $\\mathbf{v}$', fontsize=label_size, fontweight='bold')\n",
    "\n",
    "    if labels_flag != 0:\n",
    "        ax.set_xticks([])\n",
    "        for tick in ax.xaxis.get_major_ticks():\n",
    "            tick.label.set_fontsize(8)\n",
    "        for tick in ax.yaxis.get_major_ticks():\n",
    "            tick.label.set_fontsize(8) \n",
    "\n",
    "        ax.set_xticks([-0.8, -0.5, -0.2])\n",
    "        ax.set_xticklabels([0, 2, 4], fontsize=8)\n",
    "    else:\n",
    "        ax.set_xticks([])\n",
    "    ax.tick_params(axis='both', which='major', labelsize=8)\n",
    "    ax.tick_params(axis='both', which='minor', labelsize=8)\n",
    "\n",
    "    ax.fill_between(f_pulled_arr, min_v, max_v, facecolor='lightsalmon', alpha=0.5)\n",
    "    ax.fill_between(f_pushed_arr, min_v, max_v, facecolor='lightskyblue', alpha=0.5)\n",
    "\n",
    "    ax.plot(f_arr, v_arr/vF_arr, ls='-', lw=2, c='k')\n",
    "    ax.plot(f_arr, np.ones(len(f_arr)), ls='--', lw=2, c='k')\n",
    "    ax.text(1.08*min_f, 1.007*max_v, 'A', fontsize=12, fontweight='bold', color='k')\n",
    "    ax.text(-0.3, 0.98, '$v_{\\mathrm{F}}$', fontsize=14, fontweight='bold', color='k')\n",
    "    ax.text(-0.72, 1.010*max_v, 'pulled', fontsize=12, fontweight='bold', color='lightsalmon')\n",
    "    ax.text(-0.45, 1.010*max_v, 'pushed', fontsize=12, fontweight='bold', color='lightskyblue')\n",
    "\n",
    "    gf = 0.01\n",
    "    m = 0.25\n",
    "    dx = 0.01\n",
    "    x_min = -30\n",
    "    x_max = 30\n",
    "    f_pulled = -1.0\n",
    "    f_pushed = -0.08\n",
    "\n",
    "    x_array = np.arange(x_min, x_max, 0.1)\n",
    "    pulled_profile = np.array([profile(gf, m, f_pulled, x) for x in x_array])\n",
    "    pulled_growth = np.array(growth(gf, f_pulled, pulled_profile))\n",
    "    pushed_profile = np.array([profile(gf, m, f_pushed, x) for x in x_array])\n",
    "    pushed_growth = np.array(growth(gf, f_pushed, pushed_profile))\n",
    "\n",
    "    pulled_growth_fill = np.array([[elem]*len(pulled_profile) for elem in pulled_growth])\n",
    "    pushed_growth_fill = np.array([[elem]*len(pushed_profile) for elem in pushed_growth])\n",
    "    max_growth = max(pushed_growth)\n",
    "    min_growth = min(pushed_growth)\n",
    "\n",
    "\n",
    "    ax1 = fig.add_subplot(132)\n",
    "    ax1.set_title('pulled', fontsize=12, fontweight='bold')\n",
    "    ax1.set_xlabel('position, x', fontsize=label_size, fontweight='bold')\n",
    "    ax1.set_ylabel('population density, n', fontsize=label_size, fontweight='bold')\n",
    "    ax1.set_xticks([-20, 0, 20, 40])\n",
    "    ax1.set_xticklabels([])\n",
    "    ax1.set_xticks([])\n",
    "    ax1.set_yticks([])\n",
    "    ax1.set_ylim([0.0, 1.1])\n",
    "    for tick in ax1.yaxis.get_major_ticks():\n",
    "        tick.label.set_fontsize(8) \n",
    "\n",
    "    ax1.contourf(x_array, pulled_profile, pulled_growth_fill.T, 200, cmap=plt.cm.winter)\n",
    "    ax1.fill_between(x_array, pulled_profile, y2=1.01*max(pulled_profile), color='w')\n",
    "    ax1.text(1.20*x_min, 1.03*1.1, 'B', fontsize=12, fontweight='bold', color='k')\n",
    "\n",
    "    ax1 = fig.add_subplot(133)\n",
    "    ax1.set_title('pushed', fontsize=12, fontweight='bold')\n",
    "    ax1.set_xlabel('position, x', fontsize=label_size, fontweight='bold')\n",
    "    ax1.set_ylabel('population density, n', fontsize=label_size, fontweight='bold')\n",
    "    ax1.set_xticks([-20, 0, 20, 40])\n",
    "    ax1.set_xticklabels([])\n",
    "    ax1.set_xticks([])\n",
    "    ax1.set_yticks([])\n",
    "    ax1.set_ylim([0.0, 1.1])\n",
    "    for tick in ax1.yaxis.get_major_ticks():\n",
    "        tick.label.set_fontsize(8) \n",
    "\n",
    "    cax = ax1.contourf(x_array, pushed_profile, pushed_growth_fill.T, 200, cmap=plt.cm.winter)\n",
    "    ax1.fill_between(x_array, pushed_profile, y2=1.01*max(pushed_profile), color='w')\n",
    "    ax1.text(1.25*x_min, 1.03*1.1, 'C', fontsize=12, fontweight='bold', color='k')\n",
    "\n",
    "    cbar = fig.colorbar(cax, ticks=[min_growth, max_growth])\n",
    "    cbar.ax.set_yticklabels(['low', 'high'])\n",
    "\n",
    "    ax1.text(40, 0.82, 'growth rate', fontsize=10, rotation=90)\n",
    "\n",
    "    plt.tight_layout(pad=1.5, h_pad=1.0)\n",
    "    plt.savefig('plots/Fig1_growth.tiff', dpi=500)\n",
    "\n",
    "\n",
    "\n",
    "def Fig2_fixation(label_size, markings_size):\n",
    "    font = {'family' : 'sans-serif', 'serif' : 'Helvetica Neue', 'weight' : 'bold', 'size' : 8}\n",
    "    matplotlib.rc('font', **font)\n",
    "\n",
    "\n",
    "    fig = plt.figure(figsize=(cm2inch(17.8), cm2inch(6.0)))\n",
    "\n",
    "    gf = 3E-4\n",
    "    m = 0.25\n",
    "    dx = 0.01\n",
    "    x_min = -100\n",
    "    x_max = 400\n",
    "    f = -1.0\n",
    "    vt = 200.\n",
    "\n",
    "    x_array = np.arange(x_min, x_max, 0.002)\n",
    "    first_profile = np.array([profile(gf, m, f, x) for x in x_array])\n",
    "    second_profile = np.array([profile(gf, m, f, x - vt) for x in x_array])\n",
    "\n",
    "    ax = plt.subplot2grid((2, 3), (0, 0))\n",
    "    ax.set_xticks([])\n",
    "    ax.set_yticks([])\n",
    "    ax.set_ylim([0.0, 1.1])\n",
    "    ax.plot(x_array, first_profile, lw=1, c='k')\n",
    "    ax.text(-150, 1.20, 'A', fontsize=markings_size, fontweight='bold', color='k')\n",
    "    ax.text(5, 1.18, 'fixation event', fontsize=markings_size, fontweight='bold', color='k')\n",
    "\n",
    "    ax = plt.subplot2grid((2, 3), (1, 0))\n",
    "    ax.set_xticks([])\n",
    "    ax.set_yticks([])\n",
    "    ax.set_ylim([0.0, 1.1])\n",
    "    ax.plot(x_array, second_profile, lw=1, c='k')\n",
    "    ax.text(45, -0.25, 'position, x', fontsize=label_size, fontweight='bold', color='k')\n",
    "\n",
    "\n",
    "    gf = 0.01\n",
    "    gf_pushed = 0.04\n",
    "    m = 1.25\n",
    "    dx = 0.01\n",
    "    x_min = -40\n",
    "    x_max = 100\n",
    "    f_pulled = -1.0\n",
    "    f_pushed = -0.08\n",
    "\n",
    "    x_array = np.arange(x_min, x_max, 0.01)\n",
    "    x_fix = np.arange(x_min, x_max, 0.1)\n",
    "    pulled_profile = np.array([profile(gf, m, f_pulled, x) for x in x_fix])\n",
    "    pulled_fixation = np.array([fixation_probability(gf, m, f_pulled, x_min, x_max, dx, x) for x in x_fix])\n",
    "    pushed_profile = np.array([profile(gf_pushed, m, f_pushed, x) for x in x_fix])\n",
    "    pushed_fixation = np.array([fixation_probability(gf_pushed, m, f_pushed, x_min, x_max, dx, x) for x in x_fix])\n",
    "\n",
    "\n",
    "    #ax1 = fig.add_subplot(132)\n",
    "    ax1 = plt.subplot2grid((2, 3), (0, 1), rowspan=2)\n",
    "    ax1.set_title('pulled', fontsize=markings_size, fontweight='bold', color='k')\n",
    "    ax1.set_xlabel('position, x', fontsize=label_size, fontweight='bold')\n",
    "    ax1.set_ylabel('fixation probability', color='g', fontsize=label_size, fontweight='bold')\n",
    "    ax1.set_ylim([0.0, 0.05])\n",
    "    ax1.set_yticks([])\n",
    "    ax1.ticklabel_format(style='sci',scilimits=(-2,2),axis='y')\n",
    "    ax1.get_yaxis().set_tick_params(direction='in', pad=5)\n",
    "    for tick in ax1.yaxis.get_major_ticks():\n",
    "        tick.label.set_fontsize(8) \n",
    "        tick.label.set_color('g') \n",
    "    ax1.plot(x_fix, pulled_fixation, lw=4, c='g', ls='-')\n",
    "    ax1.text(15, 0.014,'fixed ancestor', fontsize=markings_size, fontweight='bold', color='g')\n",
    "    ax1.text(-55, 0.053, 'B', fontsize=markings_size, fontweight='bold', color='k')\n",
    "\n",
    "    ax2 = ax1.twinx()\n",
    "    ax2.set_xticks([])\n",
    "    ax2.set_yticks([])\n",
    "    ax2.set_ylim([0.0, 1.1])\n",
    "    for tick in ax2.yaxis.get_major_ticks():\n",
    "        tick.label2.set_fontsize(8) \n",
    "    ax2.plot(x_fix, pulled_profile, lw=4, c='k', ls='--')\n",
    "    ax2.text(-8, 0.9, 'density', fontsize=markings_size, fontweight='bold', color='k')\n",
    "\n",
    "    ax1 = plt.subplot2grid((2, 3), (0, 2), rowspan=2)\n",
    "    ax1.set_title('pushed', fontsize=markings_size, fontweight='bold', color='k')\n",
    "    ax1.set_xlabel('position, x', fontsize=label_size, fontweight='bold')\n",
    "    ax1.set_ylim([0.0, 0.08])\n",
    "    ax1.set_yticks([])\n",
    "    ax1.ticklabel_format(style='sci',scilimits=(-2,2),axis='y')\n",
    "    ax1.get_yaxis().set_tick_params(direction='in', pad=5)\n",
    "    for tick in ax1.yaxis.get_major_ticks():\n",
    "        tick.label.set_fontsize(8) \n",
    "        tick.label.set_color('g') \n",
    "    ax1.plot(x_fix, pushed_fixation, lw=4, c='g', ls='-')\n",
    "    ax1.text(15, 0.03, 'fixed ancestor', fontsize=markings_size, fontweight='bold', color='g')\n",
    "    ax1.text(-55, 0.085, 'C', fontsize=markings_size, fontweight='bold', color='k')\n",
    "\n",
    "    ax2 = ax1.twinx()\n",
    "    ax2.set_ylabel('population density', fontsize=label_size, fontweight='bold')\n",
    "    ax2.set_xticks([])\n",
    "    ax2.set_yticks([])\n",
    "    ax2.set_ylim([0.0, 1.1])\n",
    "    for tick in ax2.yaxis.get_major_ticks():\n",
    "        tick.label2.set_fontsize(8) \n",
    "    ax2.plot(x_fix, pushed_profile, lw=4, c='k', ls='--')\n",
    "    ax2.text(-5, 0.9, 'density', fontsize=markings_size, fontweight='bold', color='k')\n",
    "\n",
    "    plt.tight_layout(pad=2.4, h_pad=0.5)\n",
    "    plt.savefig('plots/Fig2_fixation.pdf')\n",
    "\n",
    "def FigS2_ancestry():\n",
    "    font = {'family' : 'sans-serif', 'serif' : 'Helvetica Neue', 'weight' : 'bold', 'size' : 8}\n",
    "    matplotlib.rc('font', **font)\n",
    "\n",
    "    labels_flag = 1\n",
    "    label_size = 10\n",
    "\n",
    "    gf = 0.01\n",
    "    gf_pushed = 4*gf\n",
    "    m = 1.25\n",
    "    dx = 0.01\n",
    "    x_min = -40\n",
    "    x_max = 50\n",
    "    f_pulled = -1.0\n",
    "    f_pushed = 0.0\n",
    "\n",
    "    min_f = -0.8\n",
    "    max_f = -0.2\n",
    "    f_arr = np.arange(min_f, max_f, 0.01)\n",
    "    f_pulled_arr = np.arange(min_f, -0.5, 0.001)\n",
    "    f_pushed_arr = np.arange(-0.5, max_f, 0.001)\n",
    "    v_arr = np.array([velocity(gf, m, f) for f in f_arr])\n",
    "    vF_arr = np.array([velocity_Fisher(gf, m, f) for f in f_arr])\n",
    "    v_ratio_arr = v_arr/vF_arr\n",
    "\n",
    "    min_v = 0.95*min(v_ratio_arr)\n",
    "    max_v = 1.05*max(v_ratio_arr)\n",
    "       \n",
    "    y_pp_transition = np.arange(min_v, max_v, 0.001)\n",
    "    x_pp_transition = -0.5*np.ones(len(y_pp_transition))\n",
    "\n",
    "    x_array = np.arange(x_min, x_max, 0.01)\n",
    "    pulled_profile = np.array([profile(gf, m, f_pulled, x) for x in x_array])\n",
    "    pulled_growth = np.array(growth(gf, f_pulled, pulled_profile))\n",
    "    pushed_profile = np.array([profile(gf_pushed, m, f_pushed, x) for x in x_array])\n",
    "    pushed_growth = np.array(growth(gf_pushed, f_pushed, pushed_profile))\n",
    "\n",
    "\n",
    "    fig = plt.figure(figsize=(cm2inch(17.8),cm2inch(5.8)))\n",
    "\n",
    "    gf = 0.01\n",
    "    m = 0.25\n",
    "    dx = 0.01\n",
    "    x_min = -30\n",
    "    x_max = 30\n",
    "    f_pulled = -1.0\n",
    "    f_pseudo = -0.4\n",
    "    f_pushed = -0.0\n",
    "\n",
    "    x_array = np.arange(x_min, x_max, 0.1)\n",
    "    x_array = np.append(x_array, [x_max])\n",
    "    pulled_profile = np.array([profile(gf, m, f_pulled, x) for x in x_array])\n",
    "    pulled_growth = np.array(growth(gf, f_pulled, pulled_profile))\n",
    "    pulled_fixation = np.array([fixation_probability(gf, m, f_pulled, x_min, x_max, dx, x) for x in x_array])\n",
    "    pulled_ancestry = np.array([ancestral_probability(gf, m, f_pulled, x_min, x_max, dx, x) for x in x_array])\n",
    "    pseudo_profile = np.array([profile(gf, m, f_pseudo, x) for x in x_array])\n",
    "    pseudo_growth = np.array(growth(gf, f_pseudo, pulled_profile))\n",
    "    pseudo_fixation = np.array([fixation_probability(gf, m, f_pseudo, x_min, x_max, dx, x) for x in x_array])\n",
    "    pseudo_ancestry = np.array([ancestral_probability(gf, m, f_pseudo, x_min, x_max, dx, x) for x in x_array])\n",
    "    pushed_profile = np.array([profile(gf, m, f_pushed, x) for x in x_array])\n",
    "    pushed_growth = np.array(growth(gf, f_pushed, pushed_profile))\n",
    "    pushed_fixation = np.array([fixation_probability(gf, m, f_pushed, x_min, x_max, dx, x) for x in x_array])\n",
    "    pushed_ancestry = np.array([ancestral_probability(gf, m, f_pushed, x_min, x_max, dx, x) for x in x_array])\n",
    "\n",
    "    pulled_growth_fill = np.array([[elem]*len(pulled_profile) for elem in pulled_growth])\n",
    "    pseudo_growth_fill = np.array([[elem]*len(pseudo_profile) for elem in pseudo_growth])\n",
    "    pushed_growth_fill = np.array([[elem]*len(pushed_profile) for elem in pushed_growth])\n",
    "    max_growth = max(pushed_growth)\n",
    "    min_growth = min(pushed_growth)\n",
    "\n",
    "\n",
    "    ax1 = fig.add_subplot(131)\n",
    "    ax1.set_title('pulled', fontsize=12, fontweight='bold')\n",
    "    ax1.set_xlabel('position, x', fontsize=label_size, fontweight='bold')\n",
    "    ax1.set_ylabel('population density, n', fontsize=label_size, fontweight='bold')\n",
    "    ax1.set_xticks([-20, 0, 20, 40])\n",
    "    ax1.set_xticklabels([])\n",
    "    ax1.set_xticks([])\n",
    "    ax1.set_yticks([])\n",
    "    ax1.set_ylim([0.0, 1.1])\n",
    "    for tick in ax1.yaxis.get_major_ticks():\n",
    "        tick.label.set_fontsize(8) \n",
    "\n",
    "    ax1.contourf(x_array[:-1], pulled_profile[:-1], pulled_growth_fill[:-1].T[:-1], 200, cmap=plt.cm.winter)\n",
    "    ax1.fill_between(x_array, pulled_profile, y2=1.01*max(pulled_profile), color='w')\n",
    "    ax1.text(1.10*x_min, 1.03*1.1, 'A', fontsize=12, fontweight='bold', color='k')\n",
    "    ax1.plot(x_array, (1./max(pulled_fixation))*pulled_fixation, lw=2, c='r')\n",
    "    ax1.plot(x_array, (1./max(pulled_ancestry))*pulled_ancestry, lw=2, c='purple')\n",
    "    ax1.text(10, 0.80, 'ancestry', fontweight='bold', fontsize=8, color='r')\n",
    "    ax1.text(6, 0.30, 'diversity', fontweight='bold', fontsize=8, color='purple')\n",
    "\n",
    "    growth_focus = x_array[np.argmax(pulled_growth)]\n",
    "    ancestry_focus = x_array[np.argmax(pulled_fixation)]\n",
    "    diversity_focus = x_array[np.argmax(pulled_ancestry)]\n",
    "    ax1.scatter([growth_focus, ancestry_focus, diversity_focus], [0.1, 0.1, 0.1], s=80, edgecolor='none', color=['darkolivegreen', 'r', 'purple'])\n",
    "\n",
    "\n",
    "    ax1 = fig.add_subplot(132)\n",
    "    ax1.set_title('semi-pushed', fontsize=12, fontweight='bold')\n",
    "    ax1.set_xlabel('position, x', fontsize=label_size, fontweight='bold')\n",
    "    ax1.set_xticks([-20, 0, 20, 40])\n",
    "    ax1.set_xticklabels([])\n",
    "    ax1.set_xticks([])\n",
    "    ax1.set_yticks([])\n",
    "    ax1.set_ylim([0.0, 1.1])\n",
    "    for tick in ax1.yaxis.get_major_ticks():\n",
    "        tick.label.set_fontsize(8) \n",
    "\n",
    "    ax1.contourf(x_array[:-1], pseudo_profile[:-1], pseudo_growth_fill[:-1].T[:-1], 200, cmap=plt.cm.winter)\n",
    "    ax1.fill_between(x_array, pseudo_profile, y2=1.01*max(pseudo_profile), color='w')\n",
    "    ax1.text(1.10*x_min, 1.03*1.1, 'B', fontsize=12, fontweight='bold', color='k')\n",
    "    ax1.plot(x_array, (1./max(pseudo_fixation))*pseudo_fixation, lw=2, c='r')\n",
    "    ax1.plot(x_array, (1./max(pseudo_ancestry))*pseudo_ancestry, lw=2, c='purple')\n",
    "    growth_focus = x_array[np.argmax(pseudo_growth)]\n",
    "    ancestry_focus = x_array[np.argmax(pseudo_fixation)]\n",
    "    diversity_focus = x_array[np.argmax(pseudo_ancestry)]\n",
    "    ax1.scatter([growth_focus, ancestry_focus, diversity_focus], [0.1, 0.1, 0.1], s=80, edgecolor='none', color=['darkolivegreen', 'r', 'purple'], zorder=3)\n",
    "\n",
    "    ax1 = fig.add_subplot(133)\n",
    "    ax1.set_title('fully-pushed', fontsize=12, fontweight='bold')\n",
    "    ax1.set_xlabel('position, x', fontsize=label_size, fontweight='bold')\n",
    "    ax1.set_xticks([-20, 0, 20, 40])\n",
    "    ax1.set_xticklabels([])\n",
    "    ax1.set_xticks([])\n",
    "    ax1.set_yticks([])\n",
    "    ax1.set_ylim([0.0, 1.1])\n",
    "    for tick in ax1.yaxis.get_major_ticks():\n",
    "        tick.label.set_fontsize(8) \n",
    "\n",
    "    cax = ax1.contourf(x_array[:-2], pushed_profile[:-2], pushed_growth_fill[:-2].T[:-2], 200, cmap=plt.cm.winter)\n",
    "    ax1.fill_between(x_array, pushed_profile, y2=1.01*max(pushed_profile), color='w')\n",
    "    ax1.text(1.10*x_min, 1.03*1.1, 'C', fontsize=12, fontweight='bold', color='k')\n",
    "    ax1.plot(x_array, (1./max(pushed_fixation))*pushed_fixation, lw=2, c='r')\n",
    "    ax1.plot(x_array, (1./max(pushed_ancestry))*pushed_ancestry, lw=2, c='purple')\n",
    "\n",
    "    growth_focus = x_array[np.argmax(pushed_growth)]\n",
    "    ancestry_focus = x_array[np.argmax(pushed_fixation)]\n",
    "    diversity_focus = x_array[np.argmax(pushed_ancestry)]\n",
    "    ax1.scatter([growth_focus, ancestry_focus, diversity_focus], [0.1, 0.1, 0.1], s=80, edgecolor='none', color=['darkolivegreen', 'r', 'purple'], zorder=2)\n",
    "\n",
    "    cbar = fig.colorbar(cax, ticks=[min_growth, max_growth])\n",
    "    cbar.ax.set_yticklabels(['low', 'high'])\n",
    "    ax1.text(42, 0.82, 'growth rate', fontsize=10, rotation=90)\n",
    "\n",
    "    plt.tight_layout(pad=1.5)\n",
    "    plt.savefig('plots/FigS2_foci.tiff', dpi=500)\n",
    "    plt.savefig('plots/FigS2_foci.pdf')\n",
    "\n"
   ]
  },
  {
   "cell_type": "code",
   "execution_count": 115,
   "metadata": {},
   "outputs": [],
   "source": [
    "\n",
    "gf = 0.01\n",
    "m = 0.25\n",
    "dx = 0.01\n",
    "x_min = -30\n",
    "x_max = 30\n",
    "f_pulled = -1.0\n",
    "f_pseudo = -0.4\n",
    "f_pushed = -0.0\n",
    "\n",
    "x_array = np.arange(x_min, x_max, 0.1)\n",
    "x_array = np.append(x_array, [x_max])\n",
    "pulled_profile = np.array([profile(gf, m, f_pulled, x) for x in x_array])\n",
    "pulled_growth = np.array(growth(gf, f_pulled, pulled_profile))\n",
    "pulled_fixation = np.array([fixation_probability(gf, m, f_pulled, x_min, x_max, dx, x) for x in x_array])\n",
    "pulled_ancestry = np.array([ancestral_probability(gf, m, f_pulled, x_min, x_max, dx, x) for x in x_array])\n",
    "pseudo_profile = np.array([profile(gf, m, f_pseudo, x) for x in x_array])\n",
    "pseudo_growth = np.array(growth(gf, f_pseudo, pulled_profile))\n",
    "pseudo_fixation = np.array([fixation_probability(gf, m, f_pseudo, x_min, x_max, dx, x) for x in x_array])\n",
    "pseudo_ancestry = np.array([ancestral_probability(gf, m, f_pseudo, x_min, x_max, dx, x) for x in x_array])\n",
    "pushed_profile = np.array([profile(gf, m, f_pushed, x) for x in x_array])\n",
    "pushed_growth = np.array(growth(gf, f_pushed, pushed_profile))\n",
    "pushed_fixation = np.array([fixation_probability(gf, m, f_pushed, x_min, x_max, dx, x) for x in x_array])\n",
    "pushed_ancestry = np.array([ancestral_probability(gf, m, f_pushed, x_min, x_max, dx, x) for x in x_array])"
   ]
  },
  {
   "cell_type": "code",
   "execution_count": 116,
   "metadata": {},
   "outputs": [
    {
     "data": {
      "text/plain": [
       "[<matplotlib.lines.Line2D at 0x7fe1a995ac40>]"
      ]
     },
     "execution_count": 116,
     "metadata": {},
     "output_type": "execute_result"
    },
    {
     "data": {
      "image/png": "[encoded data removed]",
      "text/plain": [
       "<Figure size 432x288 with 1 Axes>"
      ]
     },
     "metadata": {
      "needs_background": "light"
     },
     "output_type": "display_data"
    }
   ],
   "source": [
    "#plt.plot(pulled_fixation)\n",
    "#plt.plot(pulled_profile)\n",
    "plt.plot(pulled_ancestry)"
   ]
  },
  {
   "cell_type": "code",
   "execution_count": 117,
   "metadata": {},
   "outputs": [
    {
     "data": {
      "text/plain": [
       "[<matplotlib.lines.Line2D at 0x7fe1c968d5b0>]"
      ]
     },
     "execution_count": 117,
     "metadata": {},
     "output_type": "execute_result"
    },
    {
     "data": {
      "image/png": "[encoded data removed]",
      "text/plain": [
       "<Figure size 432x288 with 1 Axes>"
      ]
     },
     "metadata": {
      "needs_background": "light"
     },
     "output_type": "display_data"
    }
   ],
   "source": [
    "#plt.plot(pushed_fixation)\n",
    "#plt.plot(pushed_profile)\n",
    "plt.plot(pushed_ancestry)"
   ]
  },
  {
   "cell_type": "code",
   "execution_count": 103,
   "metadata": {},
   "outputs": [
    {
     "data": {
      "text/plain": [
       "[<matplotlib.lines.Line2D at 0x7fe1c92a2b50>]"
      ]
     },
     "execution_count": 103,
     "metadata": {},
     "output_type": "execute_result"
    },
    {
     "data": {
      "image/png": "[encoded data removed]",
      "text/plain": [
       "<Figure size 432x288 with 1 Axes>"
      ]
     },
     "metadata": {
      "needs_background": "light"
     },
     "output_type": "display_data"
    }
   ],
   "source": [
    "plt.plot(pushed_profile*pushed_growth)"
   ]
  },
  {
   "cell_type": "code",
   "execution_count": 101,
   "metadata": {},
   "outputs": [
    {
     "data": {
      "text/plain": [
       "[<matplotlib.lines.Line2D at 0x7fe178572430>]"
      ]
     },
     "execution_count": 101,
     "metadata": {},
     "output_type": "execute_result"
    },
    {
     "data": {
      "image/png": "[encoded data removed]",
      "text/plain": [
       "<Figure size 432x288 with 1 Axes>"
      ]
     },
     "metadata": {
      "needs_background": "light"
     },
     "output_type": "display_data"
    }
   ],
   "source": [
    "plt.plot(pulled_profile*pulled_growth)"
   ]
  },
  {
   "cell_type": "code",
   "execution_count": 76,
   "metadata": {},
   "outputs": [],
   "source": [
    "gf = 0.01\n",
    "gf_pushed = 0.04\n",
    "m = 1.25\n",
    "dx = 0.01\n",
    "x_min = -50\n",
    "x_max = 150\n",
    "f_pulled = -1.0\n",
    "f_pushed = -0.08\n",
    "\n",
    "x_array = np.arange(x_min, x_max, 0.01)\n",
    "x_fix = np.arange(x_min, x_max, 0.3)\n",
    "pulled_profile = np.array([profile(gf, m, f_pulled, x) for x in x_fix])\n",
    "pulled_fixation = np.array([fixation_probability(gf, m, f_pulled, x_min, x_max, dx, x) for x in x_fix])\n",
    "pulled_ancestral = np.array([ancestral_probability(gf, m, f_pulled, x_min, x_max, dx, x) for x in x_fix])\n",
    "\n",
    "pushed_profile = np.array([profile(gf_pushed, m, f_pushed, x) for x in x_fix])\n",
    "pushed_fixation = np.array([fixation_probability(gf_pushed, m, f_pushed, x_min, x_max, dx, x) for x in x_fix])\n",
    "pushed_ancestral = np.array([ancestral_probability(gf_pushed, m, f_pushed, x_min, x_max, dx, x) for x in x_fix])"
   ]
  },
  {
   "cell_type": "code",
   "execution_count": 68,
   "metadata": {},
   "outputs": [],
   "source": [
    "def fixation_const1(gf, migr, fstr, x_min, x_max, dx):\n",
    "    x_arr = np.arange(x_min, x_max, dx)\n",
    "    c_arr = profile(gf, migr, fstr, x_arr)\n",
    "    v = velocity(gf, migr, fstr)\n",
    "    D = migr/2.\n",
    "\n",
    "    prelim_prob = c_arr**2*np.exp(v*x_arr/D)\n",
    "    const = integrate.simps(prelim_prob, x_arr)\n",
    "    return const\n",
    "\n",
    "def fixation_probability1(gf, migr, fstr, x_min, x_max, dx, x):\n",
    "    c = profile(gf, migr, fstr, x)\n",
    "    v = velocity(gf, migr, fstr)\n",
    "    D = migr/2.\n",
    "    const = fixation_const(gf, migr, fstr, x_min, x_max, dx)\n",
    "    prob = c**2*np.exp(v*x/D)\n",
    "    return prob\n",
    "\n",
    "def ancestral_probability1(gf, migr, fstr, x_min, x_max, dx, x):\n",
    "    c = profile(gf, migr, fstr, x)\n",
    "    v = velocity(gf, migr, fstr)\n",
    "    D = migr/2.\n",
    "    const = fixation_const(gf, migr, fstr, x_min, x_max, dx)\n",
    "    prob = c**3*np.exp(2*v*x/D)\n",
    "    return prob"
   ]
  },
  {
   "cell_type": "code",
   "execution_count": 86,
   "metadata": {},
   "outputs": [],
   "source": [
    "pushed_profile = np.array([profile(gf_pushed, m, f_pushed, x) for x in x_fix])\n",
    "pushed_fixation = np.array([fixation_probability1(gf_pushed, m, f_pushed, x_min, x_max, dx, x) for x in x_fix])\n",
    "pushed_ancestral = np.array([ancestral_probability1(gf_pushed, m, f_pushed, x_min, x_max, dx, x) for x in x_fix])"
   ]
  },
  {
   "cell_type": "code",
   "execution_count": 95,
   "metadata": {},
   "outputs": [
    {
     "data": {
      "text/plain": [
       "[<matplotlib.lines.Line2D at 0x7fe1c9118670>]"
      ]
     },
     "execution_count": 95,
     "metadata": {},
     "output_type": "execute_result"
    },
    {
     "data": {
      "image/png": "[encoded data removed]",
      "text/plain": [
       "<Figure size 432x288 with 1 Axes>"
      ]
     },
     "metadata": {
      "needs_background": "light"
     },
     "output_type": "display_data"
    }
   ],
   "source": [
    "plt.plot(pushed_fixation*pushed_profile)"
   ]
  },
  {
   "cell_type": "code",
   "execution_count": 71,
   "metadata": {},
   "outputs": [
    {
     "data": {
      "text/plain": [
       "[<matplotlib.lines.Line2D at 0x7fe1d8f9c910>]"
      ]
     },
     "execution_count": 71,
     "metadata": {},
     "output_type": "execute_result"
    },
    {
     "data": {
      "image/png": "[encoded data removed]",
      "text/plain": [
       "<Figure size 432x288 with 1 Axes>"
      ]
     },
     "metadata": {
      "needs_background": "light"
     },
     "output_type": "display_data"
    }
   ],
   "source": [
    "plt.plot(pushed_ancestral)"
   ]
  },
  {
   "cell_type": "code",
   "execution_count": 52,
   "metadata": {},
   "outputs": [
    {
     "data": {
      "text/plain": [
       "0.005900465527272794"
      ]
     },
     "execution_count": 52,
     "metadata": {},
     "output_type": "execute_result"
    }
   ],
   "source": []
  },
  {
   "cell_type": "code",
   "execution_count": 20,
   "metadata": {},
   "outputs": [
    {
     "data": {
      "text/plain": [
       "[<matplotlib.lines.Line2D at 0x7fe1a932d850>]"
      ]
     },
     "execution_count": 20,
     "metadata": {},
     "output_type": "execute_result"
    },
    {
     "data": {
      "image/png": "[encoded data removed]",
      "text/plain": [
       "<Figure size 432x288 with 1 Axes>"
      ]
     },
     "metadata": {
      "needs_background": "light"
     },
     "output_type": "display_data"
    }
   ],
   "source": [
    "plt.plot(pushed_ancestral)\n",
    "#plt.plot(pulled_ancestral)\n"
   ]
  },
  {
   "cell_type": "code",
   "execution_count": 125,
   "metadata": {
    "scrolled": true
   },
   "outputs": [
    {
     "data": {
      "text/plain": [
       "[<matplotlib.lines.Line2D at 0x7fa749866790>]"
      ]
     },
     "execution_count": 125,
     "metadata": {},
     "output_type": "execute_result"
    },
    {
     "data": {
      "image/png": "[encoded data removed]",
      "text/plain": [
       "<Figure size 432x288 with 1 Axes>"
      ]
     },
     "metadata": {
      "needs_background": "light"
     },
     "output_type": "display_data"
    }
   ],
   "source": [
    "plt.plot(pulled_profile)\n",
    "plt.plot(pulled_fixation*10)\n",
    "\n"
   ]
  },
  {
   "cell_type": "code",
   "execution_count": 17,
   "metadata": {},
   "outputs": [
    {
     "data": {
      "text/plain": [
       "<function __main__.fixation_probability(gf, migr, fstr, x_min, x_max, dx, x)>"
      ]
     },
     "execution_count": 17,
     "metadata": {},
     "output_type": "execute_result"
    }
   ],
   "source": [
    "x_array = np.arange(x_min, x_max, 0.01)\n",
    "x_fix = np.arange(x_min, x_max, 0.1)"
   ]
  },
  {
   "cell_type": "code",
   "execution_count": 22,
   "metadata": {},
   "outputs": [
    {
     "ename": "NameError",
     "evalue": "name 'x' is not defined",
     "output_type": "error",
     "traceback": [
      "\u001b[0;31m---------------------------------------------------------------------------\u001b[0m",
      "\u001b[0;31mNameError\u001b[0m                                 Traceback (most recent call last)",
      "\u001b[0;32m<ipython-input-22-803f6fb0855e>\u001b[0m in \u001b[0;36m<module>\u001b[0;34m\u001b[0m\n\u001b[0;32m----> 1\u001b[0;31m \u001b[0mprofile\u001b[0m\u001b[0;34m(\u001b[0m\u001b[0mgf\u001b[0m\u001b[0;34m,\u001b[0m \u001b[0;36m1\u001b[0m\u001b[0;34m,\u001b[0m \u001b[0;34m-\u001b[0m\u001b[0;36m.08\u001b[0m\u001b[0;34m,\u001b[0m \u001b[0mx\u001b[0m\u001b[0;34m)\u001b[0m\u001b[0;34m\u001b[0m\u001b[0;34m\u001b[0m\u001b[0m\n\u001b[0m",
      "\u001b[0;31mNameError\u001b[0m: name 'x' is not defined"
     ]
    }
   ],
   "source": [
    "profile(gf, 1, -.08, x)"
   ]
  },
  {
   "cell_type": "code",
   "execution_count": 19,
   "metadata": {},
   "outputs": [
    {
     "data": {
      "text/plain": [
       "[<matplotlib.lines.Line2D at 0x7fa76002d430>]"
      ]
     },
     "execution_count": 19,
     "metadata": {},
     "output_type": "execute_result"
    },
    {
     "data": {
      "image/png": "[encoded data removed]",
      "text/plain": [
       "<Figure size 432x288 with 1 Axes>"
      ]
     },
     "metadata": {
      "needs_background": "light"
     },
     "output_type": "display_data"
    }
   ],
   "source": [
    "plt.plot(pulled_profile)"
   ]
  },
  {
   "cell_type": "code",
   "execution_count": 29,
   "metadata": {},
   "outputs": [
    {
     "data": {
      "text/plain": [
       "[<matplotlib.lines.Line2D at 0x7fa748eae2b0>]"
      ]
     },
     "execution_count": 29,
     "metadata": {},
     "output_type": "execute_result"
    },
    {
     "data": {
      "image/png": "[encoded data removed]",
      "text/plain": [
       "<Figure size 432x288 with 1 Axes>"
      ]
     },
     "metadata": {
      "needs_background": "light"
     },
     "output_type": "display_data"
    }
   ],
   "source": [
    "D=1.125/2\n",
    "fp=-.08\n",
    "gf = .01\n",
    "x_fix = np.arange(x_min, x_max, 0.1)\n",
    "plt.plot(1./(1. + np.exp(np.sqrt(gf*abs(fp)/D)*x_fix)))"
   ]
  },
  {
   "cell_type": "code",
   "execution_count": 143,
   "metadata": {},
   "outputs": [],
   "source": [
    "\n",
    "x_min = -100\n",
    "x_max = 100\n",
    "f_pulled = -1.0\n",
    "f_pushed = -0.08\n",
    "\n",
    "x_array = np.arange(x_min, x_max, 0.01)\n",
    "x_fix = np.arange(x_min, x_max, 0.1)\n",
    "migr=1.125\n",
    "D = migr/2.\n",
    "fstr  =-1\n",
    "if fstr > -0.5:\n",
    "    c = 1./(1. + np.exp(np.sqrt(gf/(2.*D))*x_fix))\n",
    "else:\n",
    "    c = 1./(1. + np.exp(np.sqrt(gf*abs(fstr)/D)*x_fix))\n"
   ]
  },
  {
   "cell_type": "code",
   "execution_count": 82,
   "metadata": {},
   "outputs": [
    {
     "data": {
      "text/plain": [
       "[<matplotlib.lines.Line2D at 0x7fa728f2ea00>]"
      ]
     },
     "execution_count": 82,
     "metadata": {},
     "output_type": "execute_result"
    },
    {
     "data": {
      "image/png": "[encoded data removed]",
      "text/plain": [
       "<Figure size 432x288 with 1 Axes>"
      ]
     },
     "metadata": {
      "needs_background": "light"
     },
     "output_type": "display_data"
    }
   ],
   "source": [
    "plt.plot(c)"
   ]
  },
  {
   "cell_type": "code",
   "execution_count": 152,
   "metadata": {},
   "outputs": [],
   "source": [
    "#c = profile(gf, migr, fstr, x)\n",
    "v = velocity(gf, migr, fstr)\n",
    "D = migr/2.\n",
    "const = fixation_const(gf, migr, fstr, x_min, x_max, dx)\n",
    "prob = c**2*np.exp(v*x_fix/D)"
   ]
  },
  {
   "cell_type": "code",
   "execution_count": 153,
   "metadata": {},
   "outputs": [
    {
     "data": {
      "text/plain": [
       "0.5625"
      ]
     },
     "execution_count": 153,
     "metadata": {},
     "output_type": "execute_result"
    }
   ],
   "source": [
    "D"
   ]
  },
  {
   "cell_type": "code",
   "execution_count": 154,
   "metadata": {},
   "outputs": [
    {
     "data": {
      "text/plain": [
       "[<matplotlib.lines.Line2D at 0x7fa76911e5b0>]"
      ]
     },
     "execution_count": 154,
     "metadata": {},
     "output_type": "execute_result"
    },
    {
     "data": {
      "image/png": "[encoded data removed]",
      "text/plain": [
       "<Figure size 432x288 with 1 Axes>"
      ]
     },
     "metadata": {
      "needs_background": "light"
     },
     "output_type": "display_data"
    }
   ],
   "source": [
    "plt.plot(c**2)"
   ]
  },
  {
   "cell_type": "code",
   "execution_count": 155,
   "metadata": {},
   "outputs": [
    {
     "data": {
      "text/plain": [
       "[<matplotlib.lines.Line2D at 0x7fa749d8e0a0>]"
      ]
     },
     "execution_count": 155,
     "metadata": {},
     "output_type": "execute_result"
    },
    {
     "data": {
      "image/png": "[encoded data removed]",
      "text/plain": [
       "<Figure size 432x288 with 1 Axes>"
      ]
     },
     "metadata": {
      "needs_background": "light"
     },
     "output_type": "display_data"
    }
   ],
   "source": [
    "plt.plot(prob)\n",
    "plt.plot(c**2)\n",
    "#plt.plot(np.exp(v*x_fix/D))"
   ]
  },
  {
   "cell_type": "code",
   "execution_count": 158,
   "metadata": {},
   "outputs": [
    {
     "data": {
      "text/plain": [
       "[<matplotlib.lines.Line2D at 0x7fa72979f520>]"
      ]
     },
     "execution_count": 158,
     "metadata": {},
     "output_type": "execute_result"
    },
    {
     "data": {
      "image/png": "[encoded data removed]",
      "text/plain": [
       "<Figure size 432x288 with 1 Axes>"
      ]
     },
     "metadata": {
      "needs_background": "light"
     },
     "output_type": "display_data"
    }
   ],
   "source": [
    "plt.plot(prob/np.sum(prob))"
   ]
  },
  {
   "cell_type": "code",
   "execution_count": 162,
   "metadata": {},
   "outputs": [
    {
     "data": {
      "text/plain": [
       "1.0"
      ]
     },
     "execution_count": 162,
     "metadata": {},
     "output_type": "execute_result"
    }
   ],
   "source": [
    "np.sum(prob/np.sum(prob))"
   ]
  },
  {
   "cell_type": "code",
   "execution_count": 160,
   "metadata": {},
   "outputs": [
    {
     "data": {
      "text/plain": [
       "0.01"
      ]
     },
     "execution_count": 160,
     "metadata": {},
     "output_type": "execute_result"
    }
   ],
   "source": [
    "gf"
   ]
  },
  {
   "cell_type": "code",
   "execution_count": 132,
   "metadata": {},
   "outputs": [],
   "source": [
    "r=.1\n",
    "c_1=1\n",
    "t=100\n",
    "x =np.linspace(0,100,1000)"
   ]
  },
  {
   "cell_type": "code",
   "execution_count": 137,
   "metadata": {},
   "outputs": [
    {
     "data": {
      "text/plain": [
       "[<matplotlib.lines.Line2D at 0x7fa7601bdfd0>]"
      ]
     },
     "execution_count": 137,
     "metadata": {},
     "output_type": "execute_result"
    },
    {
     "data": {
      "image/png": "[encoded data removed]",
      "text/plain": [
       "<Figure size 432x288 with 1 Axes>"
      ]
     },
     "metadata": {
      "needs_background": "light"
     },
     "output_type": "display_data"
    }
   ],
   "source": [
    "plt.plot((1/4)* (np.tanh(c_1 + (5*r*t)/12 - (np.sqrt(r)*x)/(2*np.sqrt(6))) + 1)**2)"
   ]
  },
  {
   "cell_type": "code",
   "execution_count": 136,
   "metadata": {},
   "outputs": [
    {
     "data": {
      "text/plain": [
       "<ufunc 'sqrt'>"
      ]
     },
     "execution_count": 136,
     "metadata": {},
     "output_type": "execute_result"
    }
   ],
   "source": [
    "np.sqrt\n"
   ]
  },
  {
   "cell_type": "code",
   "execution_count": null,
   "metadata": {},
   "outputs": [],
   "source": []
  }
 ],
 "metadata": {
  "kernelspec": {
   "display_name": "Python 3",
   "language": "python",
   "name": "python3"
  },
  "language_info": {
   "codemirror_mode": {
    "name": "ipython",
    "version": 3
   },
   "file_extension": ".py",
   "mimetype": "text/x-python",
   "name": "python",
   "nbconvert_exporter": "python",
   "pygments_lexer": "ipython3",
   "version": "3.8.3"
  }
 },
 "nbformat": 4,
 "nbformat_minor": 4
}
