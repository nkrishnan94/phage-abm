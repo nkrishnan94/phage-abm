{
 "cells": [
  {
   "cell_type": "code",
   "execution_count": 194,
   "metadata": {},
   "outputs": [],
   "source": [
    "import numpy as np\n",
    "import glob\n",
    "import matplotlib.pyplot as plt\n",
    "import os"
   ]
  },
  {
   "cell_type": "code",
   "execution_count": 195,
   "metadata": {},
   "outputs": [],
   "source": [
    "taus= np.array([100])\n",
    "samps=100\n",
    "Ndemes=300"
   ]
  },
  {
   "cell_type": "code",
   "execution_count": 204,
   "metadata": {},
   "outputs": [
    {
     "name": "stdout",
     "output_type": "stream",
     "text": [
      "100 79\n",
      "100 80\n",
      "100 81\n",
      "100 82\n",
      "100 83\n",
      "100 84\n",
      "100 85\n",
      "100 86\n",
      "100 87\n",
      "100 88\n",
      "100 89\n",
      "100 90\n",
      "100 91\n",
      "100 92\n",
      "100 93\n",
      "100 94\n",
      "100 95\n",
      "100 96\n",
      "100 97\n",
      "100 98\n",
      "100 99\n",
      "100 100\n"
     ]
    },
    {
     "name": "stderr",
     "output_type": "stream",
     "text": [
      "<ipython-input-204-068e68f4fc8f>:11: UserWarning: loadtxt: Empty input file: \"/Users/nikhilkrishnan/Dropbox/Research/PhD/phage_ibm/phage-abm/phage-sde-solve/anc_data_sde/profile_phage_Nb50_migr0.25+_tau100_alpha0.0001_ID79_demes300_2021-01-21-11-58-04.txt\"\n",
      "  parr[i,ID-51]= np.loadtxt(proff[0])[:,1]\n"
     ]
    }
   ],
   "source": [
    "\n",
    "samps=100\n",
    "parr = np.zeros((len(taus),samps-50,Ndemes))\n",
    "for i,tau in enumerate(taus):\n",
    "    for ID in range(50+1,samps+1):\n",
    "        proff = glob.glob('/Users/nikhilkrishnan/Dropbox/Research/PhD/phage_ibm/phage-abm/phage-sde-solve/anc_data_sde/profile_phage*tau'+str(tau)+'_*ID'+str(ID)+'*.txt')\n",
    "        cnt=0\n",
    "\n",
    "        try:\n",
    "            #plt.plot(np.loadtxt(pf)[:,1])\n",
    "\n",
    "            parr[i,ID-51]= np.loadtxt(proff[0])[:,1]\n",
    "            cnt+=1\n",
    "\n",
    "        except:\n",
    "            print(tau,ID)\n",
    "\n",
    "\n"
   ]
  },
  {
   "cell_type": "code",
   "execution_count": 209,
   "metadata": {},
   "outputs": [
    {
     "data": {
      "text/plain": [
       "array([[[2520., 2518., 2513., ...,    0.,    0.,    0.],\n",
       "        [2512., 2515., 2521., ...,    0.,    0.,    0.],\n",
       "        [2538., 2541., 2544., ...,    0.,    0.,    0.],\n",
       "        ...,\n",
       "        [   0.,    0.,    0., ...,    0.,    0.,    0.],\n",
       "        [   0.,    0.,    0., ...,    0.,    0.,    0.],\n",
       "        [   0.,    0.,    0., ...,    0.,    0.,    0.]]])"
      ]
     },
     "execution_count": 209,
     "metadata": {},
     "output_type": "execute_result"
    }
   ],
   "source": [
    "parr"
   ]
  },
  {
   "cell_type": "code",
   "execution_count": 210,
   "metadata": {},
   "outputs": [
    {
     "data": {
      "text/plain": [
       "array([28])"
      ]
     },
     "execution_count": 210,
     "metadata": {},
     "output_type": "execute_result"
    }
   ],
   "source": [
    "np.sum(parr[:,:,0]>0,axis=1)\n"
   ]
  },
  {
   "cell_type": "code",
   "execution_count": 211,
   "metadata": {},
   "outputs": [
    {
     "data": {
      "text/plain": [
       "[<matplotlib.lines.Line2D at 0x7fb3c12f8b20>]"
      ]
     },
     "execution_count": 211,
     "metadata": {},
     "output_type": "execute_result"
    },
    {
     "data": {
      "image/png": "[encoded data removed]",
      "text/plain": [
       "<Figure size 432x288 with 1 Axes>"
      ]
     },
     "metadata": {
      "needs_background": "light"
     },
     "output_type": "display_data"
    }
   ],
   "source": [
    "plt.plot(np.sum(parr.T,axis=1)/np.sum(parr[:,:,0]>0,axis=1))\n"
   ]
  },
  {
   "cell_type": "code",
   "execution_count": 215,
   "metadata": {},
   "outputs": [
    {
     "name": "stdout",
     "output_type": "stream",
     "text": [
      "100 79\n",
      "100 80\n",
      "100 81\n",
      "100 82\n",
      "100 83\n",
      "100 84\n",
      "100 85\n",
      "100 86\n",
      "100 87\n",
      "100 88\n",
      "100 89\n",
      "100 90\n",
      "100 91\n",
      "100 92\n",
      "100 93\n",
      "100 94\n",
      "100 95\n",
      "100 96\n",
      "100 97\n",
      "100 98\n",
      "100 99\n",
      "100 100\n"
     ]
    },
    {
     "name": "stderr",
     "output_type": "stream",
     "text": [
      "<ipython-input-215-84f0178016ab>:6: RuntimeWarning: invalid value encountered in true_divide\n",
      "  p5arr[i,ID-51] = np.argmax(np.argwhere((parr[i,ID-51]/np.max(parr[i,ID-51]) > .5))) + 1\n",
      "<ipython-input-215-84f0178016ab>:6: RuntimeWarning: invalid value encountered in greater\n",
      "  p5arr[i,ID-51] = np.argmax(np.argwhere((parr[i,ID-51]/np.max(parr[i,ID-51]) > .5))) + 1\n"
     ]
    }
   ],
   "source": [
    "p5arr = np.zeros((len(taus),samps-50))\n",
    "\n",
    "for i,tau in enumerate(taus):\n",
    "    for ID in range(50+1,samps+1):\n",
    "        try:\n",
    "            p5arr[i,ID-51] = np.argmax(np.argwhere((parr[i,ID-51]/np.max(parr[i,ID-51]) > .5))) + 1 \n",
    "        except:     \n",
    "            print(tau,ID)"
   ]
  },
  {
   "cell_type": "code",
   "execution_count": 216,
   "metadata": {},
   "outputs": [
    {
     "data": {
      "text/plain": [
       "array([[139., 139., 140., 140., 140., 140., 139., 138., 141., 140., 139.,\n",
       "        139., 140., 140., 140., 139., 140., 139., 140., 140., 139., 140.,\n",
       "        139., 140., 140., 140., 139., 139.,   0.,   0.,   0.,   0.,   0.,\n",
       "          0.,   0.,   0.,   0.,   0.,   0.,   0.,   0.,   0.,   0.,   0.,\n",
       "          0.,   0.,   0.,   0.,   0.,   0.]])"
      ]
     },
     "execution_count": 216,
     "metadata": {},
     "output_type": "execute_result"
    }
   ],
   "source": [
    "p5arr"
   ]
  },
  {
   "cell_type": "code",
   "execution_count": 222,
   "metadata": {},
   "outputs": [
    {
     "name": "stdout",
     "output_type": "stream",
     "text": [
      "100 83\n",
      "100 84\n",
      "100 85\n",
      "100 86\n",
      "100 87\n",
      "100 88\n",
      "100 89\n",
      "100 90\n",
      "100 91\n",
      "100 92\n",
      "100 93\n",
      "100 94\n",
      "100 95\n",
      "100 96\n",
      "100 97\n",
      "100 98\n",
      "100 99\n",
      "100 100\n"
     ]
    }
   ],
   "source": [
    "cnt=0 \n",
    "farr = np.zeros((len(taus),Ndemes))\n",
    "for i,tau in enumerate(taus):\n",
    "    marks= []\n",
    "    for ID in range(51,samps+1):\n",
    "        try:\n",
    "            logf = glob.glob('/Users/nikhilkrishnan/Dropbox/Research/PhD/phage_ibm/phage-abm/phage-sde-solve/anc_data_sde/log*tau'+str(tau)+'_*ID'+str(ID)+'*.txt')\n",
    "\n",
    "\n",
    "\n",
    "            file = logf[0]\n",
    "        #for file in logf:\n",
    "\n",
    "\n",
    "            f =open(file, \"r\")\n",
    "            marks.append(f.read()[-4:-1])\n",
    "        except:\n",
    "            print(tau,ID)\n",
    "            \n",
    "    if len(marks)>0:\n",
    "        \n",
    "        fix_marks=[]\n",
    "        for ID,m in enumerate(marks):\n",
    "            if len(m)>0:\n",
    "                #fix_marks.append(int(m))\n",
    "                if p5arr[i,ID-1]>0:\n",
    "                    fix_marks.append(int(m) - p5arr[i,ID-1])\n",
    "                    #fixmarks.append(int(m))\n",
    "\n",
    "\n",
    "\n",
    "\n",
    "        farr[i]= np.bincount(np.array(fix_marks).astype(int)+int(np.mean(p5arr[p5arr>0])) ,minlength=Ndemes)\n",
    "        #farr[i]=np.bincount(np.array(fix_marks).astype(int),minlength=Ndemes)\n",
    "\n",
    "               \n",
    "    \n",
    "            \n",
    "            "
   ]
  },
  {
   "cell_type": "code",
   "execution_count": 224,
   "metadata": {},
   "outputs": [
    {
     "data": {
      "text/plain": [
       "[<matplotlib.lines.Line2D at 0x7fb3a96c4610>]"
      ]
     },
     "execution_count": 224,
     "metadata": {},
     "output_type": "execute_result"
    },
    {
     "data": {
      "image/png": "[encoded data removed]",
      "text/plain": [
       "<Figure size 432x288 with 1 Axes>"
      ]
     },
     "metadata": {
      "needs_background": "light"
     },
     "output_type": "display_data"
    }
   ],
   "source": [
    "\n",
    "plt.plot(farr[0])"
   ]
  },
  {
   "cell_type": "code",
   "execution_count": 227,
   "metadata": {},
   "outputs": [
    {
     "data": {
      "image/png": "[encoded data removed]",
      "text/plain": [
       "<Figure size 576x576 with 1 Axes>"
      ]
     },
     "metadata": {
      "needs_background": "light"
     },
     "output_type": "display_data"
    }
   ],
   "source": [
    "fig, ax= plt.subplots(figsize=(8,8))\n",
    "\n",
    "\n",
    "\n",
    "colors = ['navy', 'orange', 'purple', 'maroon','grey']\n",
    "buff= int(np.mean(p5arr[i][p5arr[i]>0])) - int(np.min(np.mean(p5arr[i][p5arr[i]>0],axis=0)))\n",
    "xi=int(np.min(np.mean(p5arr[i][p5arr[i]>0],axis=0)))-30\n",
    "xf=int(np.min(np.mean(p5arr[i][p5arr[i]>0],axis=0)))+30\n",
    "\n",
    "for i,tau in enumerate(taus):\n",
    "    avg_arr =np.zeros(60)\n",
    "    cnt=0\n",
    "    #buff= int(np.mean(p5arr[p5arr>0][i])) - int(np.min(np.mean(p5arr[p5arr>0],axis=1)))\n",
    "    buff= int(np.mean(p5arr[i][p5arr[i]>0])) - int(np.min(np.mean(p5arr[i][p5arr[i]>0],axis=0)))\n",
    "    for ID in range(1,samps+1):\n",
    "        if not np.all(parr[i,ID-51]==0):\n",
    "            cnt+=1\n",
    "\n",
    "            avg_arr+=  parr[i,ID-51,int(p5arr[i,ID-51]-30-buff):int(p5arr[i,ID-51]+30-buff)] \n",
    "    \n",
    "    ax.plot(.6*(avg_arr/cnt)/np.max(avg_arr/cnt),lw=3,c=colors[i])\n",
    "#ax.plot(.6*(parr[1]/np.max(parr[1]))[20:60],c='grey')\n",
    "\n",
    "\n",
    "for i in range(len(taus)):\n",
    "    ax.plot((farr[i]/np.sum(farr[i]))[xi:xf],linestyle='--',lw=1,c=colors[i])\n",
    "    ax.scatter(np.arange(xf-xi),(farr[i]/np.sum(farr[i]))[xi:xf],c=colors[i],s=70,label = r'$\\tau = $' + str(taus[i]))\n",
    "    \n",
    "    \n",
    "ax.legend(fontsize=12)\n",
    "for axis in ['left','bottom']:\n",
    "    ax.spines[axis].set_linewidth(2)\n",
    "ax.spines['right'].set_visible(False)\n",
    "ax.spines['top'].set_visible(False)\n",
    "\n",
    "ax.xaxis.set_tick_params(labelsize=20)\n",
    "ax.yaxis.set_tick_params(labelsize=20)\n",
    "\n"
   ]
  },
  {
   "cell_type": "code",
   "execution_count": 118,
   "metadata": {},
   "outputs": [
    {
     "data": {
      "text/plain": [
       "0"
      ]
     },
     "execution_count": 118,
     "metadata": {},
     "output_type": "execute_result"
    }
   ],
   "source": [
    "int(np.mean(p5arr[i][p5arr[i]>0])) - int(np.min(np.mean(p5arr[i][p5arr[i]>0],axis=0)))"
   ]
  },
  {
   "cell_type": "code",
   "execution_count": 120,
   "metadata": {},
   "outputs": [
    {
     "data": {
      "text/plain": [
       "140.0188679245283"
      ]
     },
     "execution_count": 120,
     "metadata": {},
     "output_type": "execute_result"
    }
   ],
   "source": [
    "np.mean(p5arr[i][p5arr[i]>0])"
   ]
  },
  {
   "cell_type": "code",
   "execution_count": 45,
   "metadata": {},
   "outputs": [
    {
     "data": {
      "text/plain": [
       "[]"
      ]
     },
     "execution_count": 45,
     "metadata": {},
     "output_type": "execute_result"
    }
   ],
   "source": [
    "logf"
   ]
  },
  {
   "cell_type": "code",
   "execution_count": 89,
   "metadata": {},
   "outputs": [
    {
     "data": {
      "text/plain": [
       "[<matplotlib.lines.Line2D at 0x7fb3c0a193a0>]"
      ]
     },
     "execution_count": 89,
     "metadata": {},
     "output_type": "execute_result"
    },
    {
     "data": {
      "image/png": "[encoded data removed]",
      "text/plain": [
       "<Figure size 432x288 with 1 Axes>"
      ]
     },
     "metadata": {
      "needs_background": "light"
     },
     "output_type": "display_data"
    }
   ],
   "source": [
    "plt.plot(farr[0])"
   ]
  },
  {
   "cell_type": "code",
   "execution_count": null,
   "metadata": {},
   "outputs": [],
   "source": [
    "fig, ax= plt.subplots(figsize=(8,8))\n",
    "\n",
    "\n",
    "xi=40\n",
    "xf=60\n",
    "\n",
    "colors = ['navy', 'orange', 'purple', 'maroon']\n",
    "for i in range(len(taus)):\n",
    "    ax.plot(.6*(parr[i]/np.max(parr[i]))[xi:xf],lw=2,c=colors[i])\n",
    "#ax.plot(.6*(parr[1]/np.max(parr[1]))[20:60],c='grey')\n",
    "\n",
    "\n",
    "for d0  in np.argwhere(farr[3]>0):\n",
    "    print(d0)\n",
    "    th = farr[3][d0[0]]/np.max(farr[3])*4 +2\n",
    "\n",
    "    ax.plot([d0[0]-40,d0[0]+1-40],.6*(parr[3]/np.max(parr[3]))[d0[0]:d0[0]+2],lw=th,c= 'maroon')\n",
    "\n",
    "#for i in range(len(taus)):\n",
    "#    ax.plot((farr[i]/500)[xi:xf],label = r'$\\tau = $' + str(taus[i]),linestyle='--',lw=1,c=colors[i])\n",
    "#    ax.scatter(np.arange(xf-xi),(farr[i]/500)[xi:xf],c=colors[i],s=70)\n",
    "    \n",
    "    \n",
    "ax.legend(fontsize=12)\n",
    "for axis in ['left','bottom']:\n",
    "    ax.spines[axis].set_linewidth(2)\n",
    "ax.spines['right'].set_visible(False)\n",
    "ax.spines['top'].set_visible(False)\n",
    "\n",
    "ax.xaxis.set_tick_params(labelsize=20)\n",
    "ax.yaxis.set_tick_params(labelsize=20)\n",
    "\n",
    "\n"
   ]
  }
 ],
 "metadata": {
  "kernelspec": {
   "display_name": "Python 3",
   "language": "python",
   "name": "python3"
  },
  "language_info": {
   "codemirror_mode": {
    "name": "ipython",
    "version": 3
   },
   "file_extension": ".py",
   "mimetype": "text/x-python",
   "name": "python",
   "nbconvert_exporter": "python",
   "pygments_lexer": "ipython3",
   "version": "3.8.3"
  }
 },
 "nbformat": 4,
 "nbformat_minor": 4
}
