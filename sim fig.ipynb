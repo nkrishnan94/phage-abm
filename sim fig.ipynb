{
 "cells": [
  {
   "cell_type": "code",
   "execution_count": 11,
   "metadata": {},
   "outputs": [],
   "source": [
    "import matplotlib.pyplot as plt\n",
    "import numpy as np"
   ]
  },
  {
   "cell_type": "code",
   "execution_count": 49,
   "metadata": {},
   "outputs": [
    {
     "data": {
      "text/plain": [
       "Text(18, 6, '$m/2$')"
      ]
     },
     "execution_count": 49,
     "metadata": {},
     "output_type": "execute_result"
    },
    {
     "data": {
      "image/png": "[encoded data removed]",
      "text/plain": [
       "<Figure size 648x144 with 1 Axes>"
      ]
     },
     "metadata": {
      "needs_background": "light"
     },
     "output_type": "display_data"
    }
   ],
   "source": [
    "fig,ax = plt.subplots(figsize=(9,2))\n",
    "\n",
    "ax.axis('off')\n",
    "for b in np.array([0,10,20,30,40]):\n",
    "    for i in range(5):\n",
    "        for j in range(5):\n",
    "            ax.scatter(b+i,j,c='k')\n",
    "\n",
    "        \n",
    "p=plt.Rectangle((0,0), .2, 1, fill=False)\n",
    "\n",
    "p.set_transform(ax.transAxes)\n",
    "p.set_clip_on(False)\n",
    "ax.add_patch(p)\n",
    "\n",
    "\n",
    "p=plt.Rectangle((.2,0), .2, 1, fill=False)\n",
    "\n",
    "p.set_transform(ax.transAxes)\n",
    "p.set_clip_on(False)\n",
    "ax.add_patch(p)\n",
    "\n",
    "p=plt.Rectangle((.4,0), .2, 1, fill=False)\n",
    "\n",
    "p.set_transform(ax.transAxes)\n",
    "p.set_clip_on(False)\n",
    "ax.add_patch(p)\n",
    "\n",
    "p=plt.Rectangle((.6,0), .2, 1, fill=False)\n",
    "\n",
    "p.set_transform(ax.transAxes)\n",
    "p.set_clip_on(False)\n",
    "ax.add_patch(p)\n",
    "\n",
    "\n",
    "\n",
    "p=plt.Rectangle((.8,0), .2, 1, fill=False)\n",
    "\n",
    "p.set_transform(ax.transAxes)\n",
    "p.set_clip_on(False)\n",
    "ax.add_patch(p)\n",
    "\n",
    "\n",
    "ax.text(25,6,r'$m/2$')\n",
    "\n",
    "ax.text(18,6,r'$m/2$')"
   ]
  },
  {
   "cell_type": "code",
   "execution_count": null,
   "metadata": {},
   "outputs": [],
   "source": []
  }
 ],
 "metadata": {
  "kernelspec": {
   "display_name": "Python 3",
   "language": "python",
   "name": "python3"
  },
  "language_info": {
   "codemirror_mode": {
    "name": "ipython",
    "version": 3
   },
   "file_extension": ".py",
   "mimetype": "text/x-python",
   "name": "python",
   "nbconvert_exporter": "python",
   "pygments_lexer": "ipython3",
   "version": "3.8.3"
  }
 },
 "nbformat": 4,
 "nbformat_minor": 4
}
