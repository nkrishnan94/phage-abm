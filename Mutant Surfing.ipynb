{
 "cells": [
  {
   "cell_type": "code",
   "execution_count": 1,
   "metadata": {},
   "outputs": [],
   "source": [
    "import numpy as np\n",
    "\n",
    "import matplotlib.pyplot as plt"
   ]
  },
  {
   "cell_type": "code",
   "execution_count": 486,
   "metadata": {},
   "outputs": [],
   "source": [
    "##Fisher wave\n",
    "r=.01\n",
    "D = 1.125/2\n",
    "X =1000\n",
    "T=5000\n",
    "dT=.1\n",
    "dX=.3\n",
    "F = D*dT/(2*dX**2)\n",
    "b = np.zeros((int(T/dT)+1,int(X/dX)+1))\n",
    "K=1000\n",
    "\n",
    "b[:50,0] = K\n",
    "            \n",
    "for t in np.arange(0,int(T/dT)):\n",
    "    #b[t+1,int(X/dX)] =b[t,int(X/dX)] +F*( b[t,int(X/dX)-1] - b[t,int(X/dX)])\n",
    "    b[t,int(X/dX)] =b[t,int(X/dX)] +F*( b[t,int(X/dX)-1] - b[t,int(X/dX)])\n",
    "    for x in np.arange(1,int(X/dX)-1)[::-1]:\n",
    "        #b[t+1,x] = b[t,x] + F*(b[t,x-1] -2*b[t,x]+b[t,x+1])\n",
    "        b[t,x] = b[t,x] + F*(b[t,x-1] -2*b[t,x]+b[t,x+1])\n",
    "    #b[t,0] = b[t,0] + F*(-b[t,0]+b[t,1])\n",
    "    \n",
    "    b[t,0] = b[t,0] + F*(-b[t,0]+b[t,1])\n",
    "    \n",
    "             \n",
    "             \n",
    "\n",
    "    #b[t+1]= b[t]+b[t]*r*(1-b[t])*dT\n",
    "    b[t]= b[t]+b[t]*r*(1-b[t]/K)*dT\n",
    "    b[t+1]= b[t]\n",
    "        \n"
   ]
  },
  {
   "cell_type": "code",
   "execution_count": 456,
   "metadata": {},
   "outputs": [],
   "source": [
    "\n",
    "Start=4000\n",
    "##guess that velocity is reached after timestep 50\n",
    "xt=np.zeros(int(T/dT)-Start)\n",
    "for t in np.arange(Start,int(T/dT)):\n",
    "    bhalf=0\n",
    "    for x in np.arange(0,int(X/dX)):\n",
    "        if b[t,x]>.5:\n",
    "            bhalf=x\n",
    "    xt[t-Start] = bhalf\n",
    "            \n",
    "\n",
    "ve = np.polyfit(np.arange(Start,int(T/dT)),xt/dX,1)[0]\n",
    "vf = 2*(D*r)**.5"
   ]
  },
  {
   "cell_type": "code",
   "execution_count": 557,
   "metadata": {},
   "outputs": [
    {
     "name": "stdout",
     "output_type": "stream",
     "text": [
      "Fisher Speed: 1.2649110640673518\n"
     ]
    }
   ],
   "source": [
    "print('Fisher Speed:', 2*(D*r)**.5)"
   ]
  },
  {
   "cell_type": "code",
   "execution_count": 558,
   "metadata": {},
   "outputs": [
    {
     "name": "stdout",
     "output_type": "stream",
     "text": [
      "'Measured' Speed: 1.1154817275747348\n"
     ]
    }
   ],
   "source": [
    "print(\"'Measured' Speed:\", v)"
   ]
  },
  {
   "cell_type": "code",
   "execution_count": 572,
   "metadata": {},
   "outputs": [],
   "source": [
    "##steady state wave\n",
    "\n",
    "r=.4\n",
    "D=1\n",
    "X =500\n",
    "T=200\n",
    "dT=.1\n",
    "dX=.3\n",
    "F = D*dT/(2*dX**2)\n",
    "U = v*dT/(4*dX)\n",
    "bv = np.zeros((int(T/dT)+1,int(X/dX)+1))\n",
    "\n",
    "bv[0] = b[-1]\n",
    "            \n",
    "for t in np.arange(0,int(T/dT)):\n",
    "    #b[t+1,int(X/dX)] =b[t,int(X/dX)] +F*( b[t,int(X/dX)-1] - b[t,int(X/dX)])\n",
    "    #bv[t,0] = bv[t,0] + F*(-bv[t,0]+bv[t,1])\n",
    "    bv[t,int(X/dX)] =bv[t,int(X/dX)] +F*( bv[t,int(X/dX)-1] - bv[t,int(X/dX)])\n",
    "    for x in np.arange(1,int(X/dX)-1)[::-1]:\n",
    "        #b[t+1,x] = b[t,x] + F*(b[t,x-1] -2*b[t,x]+b[t,x+1])\n",
    "        bv[t,x] = bv[t,x] + F*(bv[t,x-1] -2*bv[t,x]+bv[t,x+1])+U*(bv[t,x+1]-bv[t,x-1])\n",
    "    #b[t,0] = b[t,0] + F*(-b[t,0]+b[t,1])\n",
    "    #bv[t,int(X/dX)] =bv[t,int(X/dX)] +F*( bv[t,int(X/dX)-1] - bv[t,int(X/dX)])\n",
    "    bv[t,0] = bv[t,0] + F*(-bv[t,0]+bv[t,1])+U*(bv[t,x+1]-bv[t,x-1])\n",
    "    #bv[t,0] = bv[t,0] + F*(-bv[t,0]+bv[t,1])\n",
    "    \n",
    "             \n",
    "             \n",
    "\n",
    "    #b[t+1]= b[t]+b[t]*r*(1-b[t])*dT\n",
    "    bv[t]= bv[t]+bv[t]*r*(1-bv[t])*dT\n",
    "    bv[t+1]= bv[t]\n",
    "        \n",
    "\n"
   ]
  },
  {
   "cell_type": "code",
   "execution_count": 108,
   "metadata": {},
   "outputs": [],
   "source": [
    "#Hunter et al UDM - system\n",
    "r=.4\n",
    "D=.5\n",
    "X =360\n",
    "T=1100\n",
    "dT=.05\n",
    "dX=.3\n",
    "F = D*dT/(2*dX**2)\n",
    "a=.04\n",
    "N=100\n",
    "tau = 2\n",
    "B =4\n",
    "bc = np.zeros((int(T/dT)+1,int(X/dX)+1))\n",
    "p = np.zeros((int(T/dT)+1,int(X/dX)+1))\n",
    "u = np.zeros((int(T/dT)+1,int(X/dX)+1))\n",
    "b0=50\n",
    "bc[0,:] = b0\n",
    "p[0,0] = 100\n",
    "u[0,0] = .001\n",
    "\n",
    "integ_T = 3000\n",
    "u[integ_T+1,:] = .001\n",
    "            \n",
    "for t in np.arange(0,int(T/dT)):\n",
    "    u[t,0] = u[t,0] + F*(-u[t,0]+u[t,1])\n",
    "    p[t,0] = p[t,0] + F*(-p[t,0]+p[t,1])\n",
    "    for x in np.arange(1,int(X/dX)-1):\n",
    "        #b[t+1,x] = b[t,x] + F*(b[t,x-1] -2*b[t,x]+b[t,x+1])\n",
    "        #bc[t,x] = bc[t,x] + F*(bc[t,x-1] -2*bc[t,x]+b[t,x+1])\n",
    "        p[t,x] = p[t,x] + F*(p[t,x-1] -2*p[t,x]+p[t,x+1])\n",
    "        if t>integ_T:\n",
    "            \n",
    "            u[t,x] = u[t,x] + F*(u[t,x-1] -2*u[t,x]+u[t,x+1])\n",
    "    #b[t,0] = b[t,0] + F*(-b[t,0]+b[t,1])\n",
    "    p[t,int(X/dX)] =p[t,int(X/dX)] +F*( p[t,int(X/dX)-1] - p[t,int(X/dX)])\n",
    "    if t>integ_T:\n",
    "        u[t,int(X/dX)] =u[t,int(X/dX)] +F*( u[t,int(X/dX)-1] - u[t,int(X/dX)])\n",
    "    #p[t,0] = p[t,0] + F*(-p[t,0]+p[t,1])\n",
    "    \n",
    "             \n",
    "             \n",
    "\n",
    "    #b[t+1]= b[t]+b[t]*r*(1-b[t])*dT\n",
    "    p[t]= p[t]-p[t]*bc[t]*a*dT\n",
    "    bc[t]= bc[t]-p[t]*bc[t]*a*dT\n",
    "    if t>integ_T:\n",
    "    \n",
    "        u[t]= u[t]-u[t]*bc[t]*a*dT\n",
    "    #p[t]= p[t]+p[t]*(1-p[t]/100)*r*dT\n",
    "    if t>tau/dT:\n",
    "        p[t]= p[t] +p[t-int(tau/dT)]*bc[t-int(tau/dT)]*a*B*dT\n",
    "        if t>integ_T:\n",
    "            u[t]= u[t] +dT*(bc[t-int(tau/dT)]*a/1 - (bc[t-int(tau/dT)]/1)*a*(1-u[t-int(tau/dT)])**B )\n",
    "        #print(p[t-tau]*bc[t-tau]*a*B*dT)\n",
    "        \n",
    "\n",
    "\n",
    "    p[t+1]= p[t]\n",
    "    if t>integ_T:\n",
    "        u[t+1]= u[t]\n",
    "    bc[t+1]= bc[t]\n",
    "        \n",
    "\n",
    "\n",
    "\n"
   ]
  },
  {
   "cell_type": "code",
   "execution_count": 120,
   "metadata": {},
   "outputs": [],
   "source": [
    "\n",
    "Start=integ_T\n",
    "##guess that velocity is reached after timestep 50\n",
    "xt=np.zeros(int(T/dT)-Start)\n",
    "for t in np.arange(Start,int(T/dT)):\n",
    "    bhalf=0\n",
    "    for x in np.arange(0,int(X/dX)):\n",
    "        if bc[t,x]<.5:\n",
    "            bhalf=x\n",
    "    xt[t-Start] = bhalf\n",
    "            \n",
    "\n",
    "ve = np.polyfit(np.arange(Start,int(T/dT))[:len(xt)/2],(xt/dX)[:len(xt)/2],1)[0]\n",
    "vf = 2*(D*r)**.5"
   ]
  },
  {
   "cell_type": "code",
   "execution_count": null,
   "metadata": {},
   "outputs": [],
   "source": []
  },
  {
   "cell_type": "code",
   "execution_count": 124,
   "metadata": {},
   "outputs": [],
   "source": [
    "ve = np.polyfit(np.arange(Start,int(T/dT))[:int(len(xt)/2)],(xt/dX)[:int(len(xt)/2)],1)[0]"
   ]
  },
  {
   "cell_type": "code",
   "execution_count": 125,
   "metadata": {},
   "outputs": [
    {
     "data": {
      "text/plain": [
       "0.25418621599039987"
      ]
     },
     "execution_count": 125,
     "metadata": {},
     "output_type": "execute_result"
    }
   ],
   "source": [
    "ve"
   ]
  },
  {
   "cell_type": "code",
   "execution_count": 126,
   "metadata": {},
   "outputs": [
    {
     "data": {
      "text/plain": [
       "[<matplotlib.lines.Line2D at 0x7fcbe9db2e20>]"
      ]
     },
     "execution_count": 126,
     "metadata": {},
     "output_type": "execute_result"
    },
    {
     "data": {
      "image/png": "[encoded data removed]",
      "text/plain": [
       "<Figure size 432x288 with 1 Axes>"
      ]
     },
     "metadata": {
      "needs_background": "light"
     },
     "output_type": "display_data"
    }
   ],
   "source": [
    "plt.plot(xt[:int(len(xt)/2)])"
   ]
  },
  {
   "cell_type": "code",
   "execution_count": 136,
   "metadata": {},
   "outputs": [
    {
     "data": {
      "text/plain": [
       "[<matplotlib.lines.Line2D at 0x7fcbd9726940>]"
      ]
     },
     "execution_count": 136,
     "metadata": {},
     "output_type": "execute_result"
    },
    {
     "data": {
      "image/png": "[encoded data removed]",
      "text/plain": [
       "<Figure size 432x288 with 1 Axes>"
      ]
     },
     "metadata": {
      "needs_background": "light"
     },
     "output_type": "display_data"
    }
   ],
   "source": [
    "plt.plot(p[-10000,:-1]*np.exp((ve/D) * np.arange(0,X,dX) ))"
   ]
  },
  {
   "cell_type": "code",
   "execution_count": 114,
   "metadata": {},
   "outputs": [
    {
     "data": {
      "text/plain": [
       "[<matplotlib.lines.Line2D at 0x7fcc216809a0>]"
      ]
     },
     "execution_count": 114,
     "metadata": {},
     "output_type": "execute_result"
    },
    {
     "data": {
      "image/png": "[encoded data removed]",
      "text/plain": [
       "<Figure size 432x288 with 1 Axes>"
      ]
     },
     "metadata": {
      "needs_background": "light"
     },
     "output_type": "display_data"
    }
   ],
   "source": [
    "plt.plot(bc[integ_T+1 - int(tau/dT)]/50)\n",
    "plt.plot(bc[-1]/50)\n",
    "plt.plot(u[-1])\n",
    "#plt.plot(u[-1])\n",
    "\n"
   ]
  },
  {
   "cell_type": "code",
   "execution_count": 112,
   "metadata": {},
   "outputs": [
    {
     "data": {
      "text/plain": [
       "[<matplotlib.lines.Line2D at 0x7fcbd938dfa0>]"
      ]
     },
     "execution_count": 112,
     "metadata": {},
     "output_type": "execute_result"
    },
    {
     "data": {
      "image/png": "[encoded data removed]",
      "text/plain": [
       "<Figure size 432x288 with 1 Axes>"
      ]
     },
     "metadata": {
      "needs_background": "light"
     },
     "output_type": "display_data"
    }
   ],
   "source": [
    "plt.plot(bc[integ_T+1 - int(tau/dT)]/50)\n",
    "plt.plot(bc[-1]/50)\n",
    "plt.plot(u[-1])\n",
    "#plt.plot(u[-1])\n",
    "\n"
   ]
  },
  {
   "cell_type": "code",
   "execution_count": null,
   "metadata": {},
   "outputs": [],
   "source": [
    "#Hunter et al UDM - system\n",
    "r=.4\n",
    "D=.5\n",
    "X =360\n",
    "T=400\n",
    "dT=.05\n",
    "dX=.3\n",
    "F = D*dT/(2*dX**2)\n",
    "a=.04\n",
    "N=100\n",
    "tau = 0\n",
    "B =2\n",
    "bc = np.zeros((int(T/dT)+1,int(X/dX)+1))\n",
    "p = np.zeros((int(T/dT)+1,int(X/dX)+1))\n",
    "u = np.zeros((int(T/dT)+1,int(X/dX)+1))\n",
    "b0=50\n",
    "bc[0,:] = b0\n",
    "p[0,0] = 100\n",
    "u[0,0] = .001\n",
    "\n",
    "\n",
    "            \n",
    "for t in np.arange(0,int(T/dT)):\n",
    "    u[t,0] = u[t,0] + F*(-u[t,0]+u[t,1])\n",
    "    #p[t,0] = p[t,0] + F*(-p[t,0]+p[t,1])\n",
    "    for x in np.arange(1,int(X/dX)-1):\n",
    "        #b[t+1,x] = b[t,x] + F*(b[t,x-1] -2*b[t,x]+b[t,x+1])\n",
    "        #bc[t,x] = bc[t,x] + F*(bc[t,x-1] -2*bc[t,x]+b[t,x+1])\n",
    "        #p[t,x] = p[t,x] + F*(p[t,x-1] -2*p[t,x]+p[t,x+1])\n",
    "        u[t,x] = u[t,x] + F*(u[t,x-1] -2*u[t,x]+u[t,x+1])\n",
    "    #b[t,0] = b[t,0] + F*(-b[t,0]+b[t,1])\n",
    "    #p[t,int(X/dX)] =p[t,int(X/dX)] +F*( p[t,int(X/dX)-1] - p[t,int(X/dX)])\n",
    "    u[t,int(X/dX)] =u[t,int(X/dX)] +F*( u[t,int(X/dX)-1] - u[t,int(X/dX)])\n",
    "    #p[t,0] = p[t,0] + F*(-p[t,0]+p[t,1])\n",
    "    \n",
    "             \n",
    "             \n",
    "\n",
    "    #b[t+1]= b[t]+b[t]*r*(1-b[t])*dT\n",
    "    #p[t]= p[t]-p[t]*bc[t]*a*dT\n",
    "    bc[t]= bc[t]-p[t]*bc[-]*a*dT\n",
    "    \n",
    "    u[t]= u[t]-u[t]*bc[t]*a*dT\n",
    "    #p[t]= p[t]+p[t]*(1-p[t]/100)*r*dT\n",
    "    if t>tau/dT:\n",
    "        #p[t]= p[t] +p[t-int(tau/dT)]*bc[t-int(tau/dT)]*a*B*dT\n",
    "        u[t]= u[t] +dT*(bc[t-int(tau/dT)]*a/1 - (bc[t-int(tau/dT)]/1)*a*(1-u[t-int(tau/dT)])**B )\n",
    "        #print(p[t-tau]*bc[t-tau]*a*B*dT)\n",
    "        \n",
    "\n",
    "\n",
    "    #p[t+1]= p[t]\n",
    "    u[t+1]= u[t]\n",
    "    #bc[t+1]= bc[t]\n",
    "        \n",
    "\n",
    "\n",
    "\n",
    "\n"
   ]
  },
  {
   "cell_type": "code",
   "execution_count": 1281,
   "metadata": {},
   "outputs": [
    {
     "data": {
      "text/plain": [
       "[<matplotlib.lines.Line2D at 0x7faf4f6c8c40>]"
      ]
     },
     "execution_count": 1281,
     "metadata": {},
     "output_type": "execute_result"
    },
    {
     "data": {
      "image/png": "[encoded data removed]",
      "text/plain": [
       "<Figure size 432x288 with 1 Axes>"
      ]
     },
     "metadata": {
      "needs_background": "light"
     },
     "output_type": "display_data"
    }
   ],
   "source": [
    "plt.plot(p[-5000])\n",
    "\n",
    "\n"
   ]
  },
  {
   "cell_type": "code",
   "execution_count": 1280,
   "metadata": {},
   "outputs": [
    {
     "data": {
      "text/plain": [
       "[<matplotlib.lines.Line2D at 0x7fae841983a0>]"
      ]
     },
     "execution_count": 1280,
     "metadata": {},
     "output_type": "execute_result"
    },
    {
     "data": {
      "image/png": "[encoded data removed]",
      "text/plain": [
       "<Figure size 432x288 with 1 Axes>"
      ]
     },
     "metadata": {
      "needs_background": "light"
     },
     "output_type": "display_data"
    }
   ],
   "source": [
    "#plt.plot(bc[-1])\n",
    "plt.plot(u[-5000])\n",
    "plt.plot(bc[-5000-int(tau/dT)]/b0)"
   ]
  },
  {
   "cell_type": "code",
   "execution_count": 1279,
   "metadata": {},
   "outputs": [
    {
     "data": {
      "text/plain": [
       "array([4.26871807e-120, 1.22933139e-119, 3.21767058e-119, ...,\n",
       "       5.00000000e+001, 5.00000000e+001, 5.00000000e+001])"
      ]
     },
     "execution_count": 1279,
     "metadata": {},
     "output_type": "execute_result"
    }
   ],
   "source": [
    "bc[-5000]"
   ]
  },
  {
   "cell_type": "code",
   "execution_count": 1256,
   "metadata": {},
   "outputs": [
    {
     "ename": "IndexError",
     "evalue": "index 10000 is out of bounds for axis 0 with size 8001",
     "output_type": "error",
     "traceback": [
      "\u001b[0;31m---------------------------------------------------------------------------\u001b[0m",
      "\u001b[0;31mIndexError\u001b[0m                                Traceback (most recent call last)",
      "\u001b[0;32m<ipython-input-1256-e51e393d23b4>\u001b[0m in \u001b[0;36m<module>\u001b[0;34m\u001b[0m\n\u001b[0;32m----> 1\u001b[0;31m \u001b[0mplt\u001b[0m\u001b[0;34m.\u001b[0m\u001b[0mplot\u001b[0m\u001b[0;34m(\u001b[0m\u001b[0mu\u001b[0m\u001b[0;34m[\u001b[0m\u001b[0;36m10000\u001b[0m\u001b[0;34m]\u001b[0m\u001b[0;34m)\u001b[0m\u001b[0;34m\u001b[0m\u001b[0;34m\u001b[0m\u001b[0m\n\u001b[0m",
      "\u001b[0;31mIndexError\u001b[0m: index 10000 is out of bounds for axis 0 with size 8001"
     ]
    }
   ],
   "source": [
    "plt.plot(u[10000])\n"
   ]
  },
  {
   "cell_type": "code",
   "execution_count": 1246,
   "metadata": {},
   "outputs": [
    {
     "data": {
      "text/plain": [
       "[<matplotlib.lines.Line2D at 0x7fada661d220>]"
      ]
     },
     "execution_count": 1246,
     "metadata": {},
     "output_type": "execute_result"
    },
    {
     "data": {
      "image/png": "[encoded data removed]",
      "text/plain": [
       "<Figure size 432x288 with 1 Axes>"
      ]
     },
     "metadata": {
      "needs_background": "light"
     },
     "output_type": "display_data"
    }
   ],
   "source": [
    "plt.plot(u[-1])\n"
   ]
  },
  {
   "cell_type": "code",
   "execution_count": null,
   "metadata": {},
   "outputs": [],
   "source": []
  }
 ],
 "metadata": {
  "kernelspec": {
   "display_name": "Python 3",
   "language": "python",
   "name": "python3"
  },
  "language_info": {
   "codemirror_mode": {
    "name": "ipython",
    "version": 3
   },
   "file_extension": ".py",
   "mimetype": "text/x-python",
   "name": "python",
   "nbconvert_exporter": "python",
   "pygments_lexer": "ipython3",
   "version": "3.8.3"
  }
 },
 "nbformat": 4,
 "nbformat_minor": 4
}
